{
 "cells": [
  {
   "cell_type": "code",
   "execution_count": 1,
   "metadata": {},
   "outputs": [],
   "source": [
    "# -*- coding: utf-8 -*-\n",
    "# Indentation: Visual Studio\n",
    "\n",
    "'''\n",
    "create square class using Polygon class\n",
    "'''\n",
    "\n",
    "__version__ = 1.0\n",
    "__author__ = \"Sourav Raj\"\n",
    "__author_email__ = \"souravraj.iitbbs@gmail.com\"\n"
   ]
  },
  {
   "cell_type": "code",
   "execution_count": 2,
   "metadata": {},
   "outputs": [],
   "source": [
    "import pandas as pd\n",
    "import numpy as np"
   ]
  },
  {
   "cell_type": "code",
   "execution_count": 3,
   "metadata": {
    "collapsed": true
   },
   "outputs": [],
   "source": [
    "dates = pd.date_range('01/12/2000', periods = 8)"
   ]
  },
  {
   "cell_type": "code",
   "execution_count": 4,
   "metadata": {
    "collapsed": true
   },
   "outputs": [],
   "source": [
    "df = pd.DataFrame(np.random.randn(8, 4), index=dates, columns = ['A', 'B', 'C', 'D'])"
   ]
  },
  {
   "cell_type": "code",
   "execution_count": 5,
   "metadata": {},
   "outputs": [
    {
     "data": {
      "text/html": [
       "<div>\n",
       "<table border=\"1\" class=\"dataframe\">\n",
       "  <thead>\n",
       "    <tr style=\"text-align: right;\">\n",
       "      <th></th>\n",
       "      <th>A</th>\n",
       "      <th>B</th>\n",
       "      <th>C</th>\n",
       "      <th>D</th>\n",
       "    </tr>\n",
       "  </thead>\n",
       "  <tbody>\n",
       "    <tr>\n",
       "      <th>2000-01-12</th>\n",
       "      <td>0.731521</td>\n",
       "      <td>1.385326</td>\n",
       "      <td>0.474791</td>\n",
       "      <td>0.246368</td>\n",
       "    </tr>\n",
       "    <tr>\n",
       "      <th>2000-01-13</th>\n",
       "      <td>-0.642144</td>\n",
       "      <td>0.297049</td>\n",
       "      <td>-1.057597</td>\n",
       "      <td>0.052490</td>\n",
       "    </tr>\n",
       "    <tr>\n",
       "      <th>2000-01-14</th>\n",
       "      <td>0.508796</td>\n",
       "      <td>1.329939</td>\n",
       "      <td>2.097644</td>\n",
       "      <td>0.214907</td>\n",
       "    </tr>\n",
       "    <tr>\n",
       "      <th>2000-01-15</th>\n",
       "      <td>0.343356</td>\n",
       "      <td>1.645979</td>\n",
       "      <td>-0.787874</td>\n",
       "      <td>-0.288615</td>\n",
       "    </tr>\n",
       "    <tr>\n",
       "      <th>2000-01-16</th>\n",
       "      <td>-0.361703</td>\n",
       "      <td>1.050448</td>\n",
       "      <td>0.109604</td>\n",
       "      <td>1.272104</td>\n",
       "    </tr>\n",
       "    <tr>\n",
       "      <th>2000-01-17</th>\n",
       "      <td>1.669394</td>\n",
       "      <td>1.210338</td>\n",
       "      <td>1.104604</td>\n",
       "      <td>0.541889</td>\n",
       "    </tr>\n",
       "    <tr>\n",
       "      <th>2000-01-18</th>\n",
       "      <td>-0.281746</td>\n",
       "      <td>-0.556590</td>\n",
       "      <td>1.388499</td>\n",
       "      <td>1.587478</td>\n",
       "    </tr>\n",
       "    <tr>\n",
       "      <th>2000-01-19</th>\n",
       "      <td>0.291686</td>\n",
       "      <td>0.233198</td>\n",
       "      <td>-0.896226</td>\n",
       "      <td>0.326833</td>\n",
       "    </tr>\n",
       "  </tbody>\n",
       "</table>\n",
       "</div>"
      ],
      "text/plain": [
       "                   A         B         C         D\n",
       "2000-01-12  0.731521  1.385326  0.474791  0.246368\n",
       "2000-01-13 -0.642144  0.297049 -1.057597  0.052490\n",
       "2000-01-14  0.508796  1.329939  2.097644  0.214907\n",
       "2000-01-15  0.343356  1.645979 -0.787874 -0.288615\n",
       "2000-01-16 -0.361703  1.050448  0.109604  1.272104\n",
       "2000-01-17  1.669394  1.210338  1.104604  0.541889\n",
       "2000-01-18 -0.281746 -0.556590  1.388499  1.587478\n",
       "2000-01-19  0.291686  0.233198 -0.896226  0.326833"
      ]
     },
     "execution_count": 5,
     "metadata": {},
     "output_type": "execute_result"
    }
   ],
   "source": [
    "df"
   ]
  },
  {
   "cell_type": "code",
   "execution_count": 6,
   "metadata": {
    "collapsed": true
   },
   "outputs": [],
   "source": [
    "df['A'] = df['A']/2"
   ]
  },
  {
   "cell_type": "code",
   "execution_count": 7,
   "metadata": {},
   "outputs": [
    {
     "data": {
      "text/plain": [
       "DatetimeIndex(['2000-01-12', '2000-01-13', '2000-01-14', '2000-01-15',\n",
       "               '2000-01-16', '2000-01-17', '2000-01-18', '2000-01-19'],\n",
       "              dtype='datetime64[ns]', freq='D')"
      ]
     },
     "execution_count": 7,
     "metadata": {},
     "output_type": "execute_result"
    }
   ],
   "source": [
    "df.index\n"
   ]
  },
  {
   "cell_type": "code",
   "execution_count": 8,
   "metadata": {},
   "outputs": [
    {
     "data": {
      "text/plain": [
       "Index([u'A', u'B', u'C', u'D'], dtype='object')"
      ]
     },
     "execution_count": 8,
     "metadata": {},
     "output_type": "execute_result"
    }
   ],
   "source": [
    "df.columns"
   ]
  },
  {
   "cell_type": "code",
   "execution_count": 9,
   "metadata": {},
   "outputs": [
    {
     "data": {
      "text/plain": [
       "array([[ 0.36576063,  1.38532648,  0.47479063,  0.24636772],\n",
       "       [-0.3210718 ,  0.29704903, -1.05759748,  0.0524904 ],\n",
       "       [ 0.25439817,  1.3299392 ,  2.09764434,  0.21490749],\n",
       "       [ 0.17167821,  1.64597852, -0.78787435, -0.28861489],\n",
       "       [-0.18085141,  1.05044765,  0.10960378,  1.27210363],\n",
       "       [ 0.83469704,  1.21033778,  1.10460394,  0.54188899],\n",
       "       [-0.14087307, -0.55658977,  1.38849925,  1.5874781 ],\n",
       "       [ 0.14584294,  0.2331977 , -0.89622619,  0.32683314]])"
      ]
     },
     "execution_count": 9,
     "metadata": {},
     "output_type": "execute_result"
    }
   ],
   "source": [
    "df.values"
   ]
  },
  {
   "cell_type": "code",
   "execution_count": 10,
   "metadata": {},
   "outputs": [
    {
     "data": {
      "text/html": [
       "<div>\n",
       "<table border=\"1\" class=\"dataframe\">\n",
       "  <thead>\n",
       "    <tr style=\"text-align: right;\">\n",
       "      <th></th>\n",
       "      <th>A</th>\n",
       "      <th>B</th>\n",
       "      <th>C</th>\n",
       "      <th>D</th>\n",
       "    </tr>\n",
       "  </thead>\n",
       "  <tbody>\n",
       "    <tr>\n",
       "      <th>count</th>\n",
       "      <td>8.000000</td>\n",
       "      <td>8.000000</td>\n",
       "      <td>8.000000</td>\n",
       "      <td>8.000000</td>\n",
       "    </tr>\n",
       "    <tr>\n",
       "      <th>mean</th>\n",
       "      <td>0.141198</td>\n",
       "      <td>0.824461</td>\n",
       "      <td>0.304180</td>\n",
       "      <td>0.494182</td>\n",
       "    </tr>\n",
       "    <tr>\n",
       "      <th>std</th>\n",
       "      <td>0.366861</td>\n",
       "      <td>0.754036</td>\n",
       "      <td>1.170342</td>\n",
       "      <td>0.629967</td>\n",
       "    </tr>\n",
       "    <tr>\n",
       "      <th>min</th>\n",
       "      <td>-0.321072</td>\n",
       "      <td>-0.556590</td>\n",
       "      <td>-1.057597</td>\n",
       "      <td>-0.288615</td>\n",
       "    </tr>\n",
       "    <tr>\n",
       "      <th>25%</th>\n",
       "      <td>-0.150868</td>\n",
       "      <td>0.281086</td>\n",
       "      <td>-0.814962</td>\n",
       "      <td>0.174303</td>\n",
       "    </tr>\n",
       "    <tr>\n",
       "      <th>50%</th>\n",
       "      <td>0.158761</td>\n",
       "      <td>1.130393</td>\n",
       "      <td>0.292197</td>\n",
       "      <td>0.286600</td>\n",
       "    </tr>\n",
       "    <tr>\n",
       "      <th>75%</th>\n",
       "      <td>0.282239</td>\n",
       "      <td>1.343786</td>\n",
       "      <td>1.175578</td>\n",
       "      <td>0.724443</td>\n",
       "    </tr>\n",
       "    <tr>\n",
       "      <th>max</th>\n",
       "      <td>0.834697</td>\n",
       "      <td>1.645979</td>\n",
       "      <td>2.097644</td>\n",
       "      <td>1.587478</td>\n",
       "    </tr>\n",
       "  </tbody>\n",
       "</table>\n",
       "</div>"
      ],
      "text/plain": [
       "              A         B         C         D\n",
       "count  8.000000  8.000000  8.000000  8.000000\n",
       "mean   0.141198  0.824461  0.304180  0.494182\n",
       "std    0.366861  0.754036  1.170342  0.629967\n",
       "min   -0.321072 -0.556590 -1.057597 -0.288615\n",
       "25%   -0.150868  0.281086 -0.814962  0.174303\n",
       "50%    0.158761  1.130393  0.292197  0.286600\n",
       "75%    0.282239  1.343786  1.175578  0.724443\n",
       "max    0.834697  1.645979  2.097644  1.587478"
      ]
     },
     "execution_count": 10,
     "metadata": {},
     "output_type": "execute_result"
    }
   ],
   "source": [
    "df.describe()"
   ]
  },
  {
   "cell_type": "code",
   "execution_count": 11,
   "metadata": {},
   "outputs": [
    {
     "data": {
      "text/html": [
       "<div>\n",
       "<table border=\"1\" class=\"dataframe\">\n",
       "  <thead>\n",
       "    <tr style=\"text-align: right;\">\n",
       "      <th></th>\n",
       "      <th>2000-01-12 00:00:00</th>\n",
       "      <th>2000-01-13 00:00:00</th>\n",
       "      <th>2000-01-14 00:00:00</th>\n",
       "      <th>2000-01-15 00:00:00</th>\n",
       "      <th>2000-01-16 00:00:00</th>\n",
       "      <th>2000-01-17 00:00:00</th>\n",
       "      <th>2000-01-18 00:00:00</th>\n",
       "      <th>2000-01-19 00:00:00</th>\n",
       "    </tr>\n",
       "  </thead>\n",
       "  <tbody>\n",
       "    <tr>\n",
       "      <th>A</th>\n",
       "      <td>0.365761</td>\n",
       "      <td>-0.321072</td>\n",
       "      <td>0.254398</td>\n",
       "      <td>0.171678</td>\n",
       "      <td>-0.180851</td>\n",
       "      <td>0.834697</td>\n",
       "      <td>-0.140873</td>\n",
       "      <td>0.145843</td>\n",
       "    </tr>\n",
       "    <tr>\n",
       "      <th>B</th>\n",
       "      <td>1.385326</td>\n",
       "      <td>0.297049</td>\n",
       "      <td>1.329939</td>\n",
       "      <td>1.645979</td>\n",
       "      <td>1.050448</td>\n",
       "      <td>1.210338</td>\n",
       "      <td>-0.556590</td>\n",
       "      <td>0.233198</td>\n",
       "    </tr>\n",
       "    <tr>\n",
       "      <th>C</th>\n",
       "      <td>0.474791</td>\n",
       "      <td>-1.057597</td>\n",
       "      <td>2.097644</td>\n",
       "      <td>-0.787874</td>\n",
       "      <td>0.109604</td>\n",
       "      <td>1.104604</td>\n",
       "      <td>1.388499</td>\n",
       "      <td>-0.896226</td>\n",
       "    </tr>\n",
       "    <tr>\n",
       "      <th>D</th>\n",
       "      <td>0.246368</td>\n",
       "      <td>0.052490</td>\n",
       "      <td>0.214907</td>\n",
       "      <td>-0.288615</td>\n",
       "      <td>1.272104</td>\n",
       "      <td>0.541889</td>\n",
       "      <td>1.587478</td>\n",
       "      <td>0.326833</td>\n",
       "    </tr>\n",
       "  </tbody>\n",
       "</table>\n",
       "</div>"
      ],
      "text/plain": [
       "   2000-01-12  2000-01-13  2000-01-14  2000-01-15  2000-01-16  2000-01-17  \\\n",
       "A    0.365761   -0.321072    0.254398    0.171678   -0.180851    0.834697   \n",
       "B    1.385326    0.297049    1.329939    1.645979    1.050448    1.210338   \n",
       "C    0.474791   -1.057597    2.097644   -0.787874    0.109604    1.104604   \n",
       "D    0.246368    0.052490    0.214907   -0.288615    1.272104    0.541889   \n",
       "\n",
       "   2000-01-18  2000-01-19  \n",
       "A   -0.140873    0.145843  \n",
       "B   -0.556590    0.233198  \n",
       "C    1.388499   -0.896226  \n",
       "D    1.587478    0.326833  "
      ]
     },
     "execution_count": 11,
     "metadata": {},
     "output_type": "execute_result"
    }
   ],
   "source": [
    "df.T"
   ]
  },
  {
   "cell_type": "code",
   "execution_count": 24,
   "metadata": {},
   "outputs": [
    {
     "data": {
      "text/html": [
       "<div>\n",
       "<table border=\"1\" class=\"dataframe\">\n",
       "  <thead>\n",
       "    <tr style=\"text-align: right;\">\n",
       "      <th></th>\n",
       "      <th>index</th>\n",
       "      <th>A</th>\n",
       "      <th>B</th>\n",
       "      <th>C</th>\n",
       "      <th>D</th>\n",
       "    </tr>\n",
       "  </thead>\n",
       "  <tbody>\n",
       "    <tr>\n",
       "      <th>0</th>\n",
       "      <td>2000-01-12</td>\n",
       "      <td>0.365761</td>\n",
       "      <td>1.385326</td>\n",
       "      <td>0.474791</td>\n",
       "      <td>0.246368</td>\n",
       "    </tr>\n",
       "    <tr>\n",
       "      <th>1</th>\n",
       "      <td>2000-01-13</td>\n",
       "      <td>-0.321072</td>\n",
       "      <td>0.297049</td>\n",
       "      <td>-1.057597</td>\n",
       "      <td>0.052490</td>\n",
       "    </tr>\n",
       "    <tr>\n",
       "      <th>2</th>\n",
       "      <td>2000-01-14</td>\n",
       "      <td>0.254398</td>\n",
       "      <td>1.329939</td>\n",
       "      <td>2.097644</td>\n",
       "      <td>0.214907</td>\n",
       "    </tr>\n",
       "    <tr>\n",
       "      <th>3</th>\n",
       "      <td>2000-01-15</td>\n",
       "      <td>0.171678</td>\n",
       "      <td>1.645979</td>\n",
       "      <td>-0.787874</td>\n",
       "      <td>-0.288615</td>\n",
       "    </tr>\n",
       "    <tr>\n",
       "      <th>4</th>\n",
       "      <td>2000-01-16</td>\n",
       "      <td>-0.180851</td>\n",
       "      <td>1.050448</td>\n",
       "      <td>0.109604</td>\n",
       "      <td>1.272104</td>\n",
       "    </tr>\n",
       "    <tr>\n",
       "      <th>5</th>\n",
       "      <td>2000-01-17</td>\n",
       "      <td>0.834697</td>\n",
       "      <td>1.210338</td>\n",
       "      <td>1.104604</td>\n",
       "      <td>0.541889</td>\n",
       "    </tr>\n",
       "    <tr>\n",
       "      <th>6</th>\n",
       "      <td>2000-01-18</td>\n",
       "      <td>-0.140873</td>\n",
       "      <td>-0.556590</td>\n",
       "      <td>1.388499</td>\n",
       "      <td>1.587478</td>\n",
       "    </tr>\n",
       "    <tr>\n",
       "      <th>7</th>\n",
       "      <td>2000-01-19</td>\n",
       "      <td>0.145843</td>\n",
       "      <td>0.233198</td>\n",
       "      <td>-0.896226</td>\n",
       "      <td>0.326833</td>\n",
       "    </tr>\n",
       "  </tbody>\n",
       "</table>\n",
       "</div>"
      ],
      "text/plain": [
       "       index         A         B         C         D\n",
       "0 2000-01-12  0.365761  1.385326  0.474791  0.246368\n",
       "1 2000-01-13 -0.321072  0.297049 -1.057597  0.052490\n",
       "2 2000-01-14  0.254398  1.329939  2.097644  0.214907\n",
       "3 2000-01-15  0.171678  1.645979 -0.787874 -0.288615\n",
       "4 2000-01-16 -0.180851  1.050448  0.109604  1.272104\n",
       "5 2000-01-17  0.834697  1.210338  1.104604  0.541889\n",
       "6 2000-01-18 -0.140873 -0.556590  1.388499  1.587478\n",
       "7 2000-01-19  0.145843  0.233198 -0.896226  0.326833"
      ]
     },
     "execution_count": 24,
     "metadata": {},
     "output_type": "execute_result"
    }
   ],
   "source": [
    "df.reset_index(True)"
   ]
  },
  {
   "cell_type": "code",
   "execution_count": 23,
   "metadata": {},
   "outputs": [
    {
     "data": {
      "text/html": [
       "<div>\n",
       "<table border=\"1\" class=\"dataframe\">\n",
       "  <thead>\n",
       "    <tr style=\"text-align: right;\">\n",
       "      <th></th>\n",
       "      <th>B</th>\n",
       "      <th>C</th>\n",
       "      <th>D</th>\n",
       "    </tr>\n",
       "    <tr>\n",
       "      <th>A</th>\n",
       "      <th></th>\n",
       "      <th></th>\n",
       "      <th></th>\n",
       "    </tr>\n",
       "  </thead>\n",
       "  <tbody>\n",
       "    <tr>\n",
       "      <th>0.365761</th>\n",
       "      <td>1.385326</td>\n",
       "      <td>0.474791</td>\n",
       "      <td>0.246368</td>\n",
       "    </tr>\n",
       "    <tr>\n",
       "      <th>-0.321072</th>\n",
       "      <td>0.297049</td>\n",
       "      <td>-1.057597</td>\n",
       "      <td>0.052490</td>\n",
       "    </tr>\n",
       "    <tr>\n",
       "      <th>0.254398</th>\n",
       "      <td>1.329939</td>\n",
       "      <td>2.097644</td>\n",
       "      <td>0.214907</td>\n",
       "    </tr>\n",
       "    <tr>\n",
       "      <th>0.171678</th>\n",
       "      <td>1.645979</td>\n",
       "      <td>-0.787874</td>\n",
       "      <td>-0.288615</td>\n",
       "    </tr>\n",
       "    <tr>\n",
       "      <th>-0.180851</th>\n",
       "      <td>1.050448</td>\n",
       "      <td>0.109604</td>\n",
       "      <td>1.272104</td>\n",
       "    </tr>\n",
       "    <tr>\n",
       "      <th>0.834697</th>\n",
       "      <td>1.210338</td>\n",
       "      <td>1.104604</td>\n",
       "      <td>0.541889</td>\n",
       "    </tr>\n",
       "    <tr>\n",
       "      <th>-0.140873</th>\n",
       "      <td>-0.556590</td>\n",
       "      <td>1.388499</td>\n",
       "      <td>1.587478</td>\n",
       "    </tr>\n",
       "    <tr>\n",
       "      <th>0.145843</th>\n",
       "      <td>0.233198</td>\n",
       "      <td>-0.896226</td>\n",
       "      <td>0.326833</td>\n",
       "    </tr>\n",
       "  </tbody>\n",
       "</table>\n",
       "</div>"
      ],
      "text/plain": [
       "                  B         C         D\n",
       "A                                      \n",
       " 0.365761  1.385326  0.474791  0.246368\n",
       "-0.321072  0.297049 -1.057597  0.052490\n",
       " 0.254398  1.329939  2.097644  0.214907\n",
       " 0.171678  1.645979 -0.787874 -0.288615\n",
       "-0.180851  1.050448  0.109604  1.272104\n",
       " 0.834697  1.210338  1.104604  0.541889\n",
       "-0.140873 -0.556590  1.388499  1.587478\n",
       " 0.145843  0.233198 -0.896226  0.326833"
      ]
     },
     "execution_count": 23,
     "metadata": {},
     "output_type": "execute_result"
    }
   ],
   "source": [
    "df.set_index('A')"
   ]
  },
  {
   "cell_type": "code",
   "execution_count": 31,
   "metadata": {},
   "outputs": [
    {
     "data": {
      "text/html": [
       "<div>\n",
       "<table border=\"1\" class=\"dataframe\">\n",
       "  <thead>\n",
       "    <tr style=\"text-align: right;\">\n",
       "      <th></th>\n",
       "      <th>A</th>\n",
       "      <th>B</th>\n",
       "      <th>C</th>\n",
       "      <th>D</th>\n",
       "    </tr>\n",
       "  </thead>\n",
       "  <tbody>\n",
       "    <tr>\n",
       "      <th>2000-01-12</th>\n",
       "      <td>0.365761</td>\n",
       "      <td>1.385326</td>\n",
       "      <td>0.474791</td>\n",
       "      <td>0.246368</td>\n",
       "    </tr>\n",
       "    <tr>\n",
       "      <th>2000-01-13</th>\n",
       "      <td>-0.321072</td>\n",
       "      <td>0.297049</td>\n",
       "      <td>-1.057597</td>\n",
       "      <td>0.052490</td>\n",
       "    </tr>\n",
       "    <tr>\n",
       "      <th>2000-01-14</th>\n",
       "      <td>0.254398</td>\n",
       "      <td>1.329939</td>\n",
       "      <td>2.097644</td>\n",
       "      <td>0.214907</td>\n",
       "    </tr>\n",
       "    <tr>\n",
       "      <th>2000-01-15</th>\n",
       "      <td>0.171678</td>\n",
       "      <td>1.645979</td>\n",
       "      <td>-0.787874</td>\n",
       "      <td>-0.288615</td>\n",
       "    </tr>\n",
       "    <tr>\n",
       "      <th>2000-01-16</th>\n",
       "      <td>-0.180851</td>\n",
       "      <td>1.050448</td>\n",
       "      <td>0.109604</td>\n",
       "      <td>1.272104</td>\n",
       "    </tr>\n",
       "    <tr>\n",
       "      <th>2000-01-17</th>\n",
       "      <td>0.834697</td>\n",
       "      <td>1.210338</td>\n",
       "      <td>1.104604</td>\n",
       "      <td>0.541889</td>\n",
       "    </tr>\n",
       "    <tr>\n",
       "      <th>2000-01-18</th>\n",
       "      <td>-0.140873</td>\n",
       "      <td>-0.556590</td>\n",
       "      <td>1.388499</td>\n",
       "      <td>1.587478</td>\n",
       "    </tr>\n",
       "    <tr>\n",
       "      <th>2000-01-19</th>\n",
       "      <td>0.145843</td>\n",
       "      <td>0.233198</td>\n",
       "      <td>-0.896226</td>\n",
       "      <td>0.326833</td>\n",
       "    </tr>\n",
       "  </tbody>\n",
       "</table>\n",
       "</div>"
      ],
      "text/plain": [
       "                   A         B         C         D\n",
       "2000-01-12  0.365761  1.385326  0.474791  0.246368\n",
       "2000-01-13 -0.321072  0.297049 -1.057597  0.052490\n",
       "2000-01-14  0.254398  1.329939  2.097644  0.214907\n",
       "2000-01-15  0.171678  1.645979 -0.787874 -0.288615\n",
       "2000-01-16 -0.180851  1.050448  0.109604  1.272104\n",
       "2000-01-17  0.834697  1.210338  1.104604  0.541889\n",
       "2000-01-18 -0.140873 -0.556590  1.388499  1.587478\n",
       "2000-01-19  0.145843  0.233198 -0.896226  0.326833"
      ]
     },
     "execution_count": 31,
     "metadata": {},
     "output_type": "execute_result"
    }
   ],
   "source": [
    "df.sort_index(axis =1, ascending =True)"
   ]
  },
  {
   "cell_type": "code",
   "execution_count": 33,
   "metadata": {},
   "outputs": [
    {
     "name": "stderr",
     "output_type": "stream",
     "text": [
      "C:\\python\\Anaconda\\lib\\site-packages\\ipykernel\\__main__.py:1: FutureWarning: sort(columns=....) is deprecated, use sort_values(by=.....)\n",
      "  if __name__ == '__main__':\n"
     ]
    },
    {
     "data": {
      "text/html": [
       "<div>\n",
       "<table border=\"1\" class=\"dataframe\">\n",
       "  <thead>\n",
       "    <tr style=\"text-align: right;\">\n",
       "      <th></th>\n",
       "      <th>A</th>\n",
       "      <th>B</th>\n",
       "      <th>C</th>\n",
       "      <th>D</th>\n",
       "    </tr>\n",
       "  </thead>\n",
       "  <tbody>\n",
       "    <tr>\n",
       "      <th>2000-01-13</th>\n",
       "      <td>-0.321072</td>\n",
       "      <td>0.297049</td>\n",
       "      <td>-1.057597</td>\n",
       "      <td>0.052490</td>\n",
       "    </tr>\n",
       "    <tr>\n",
       "      <th>2000-01-16</th>\n",
       "      <td>-0.180851</td>\n",
       "      <td>1.050448</td>\n",
       "      <td>0.109604</td>\n",
       "      <td>1.272104</td>\n",
       "    </tr>\n",
       "    <tr>\n",
       "      <th>2000-01-18</th>\n",
       "      <td>-0.140873</td>\n",
       "      <td>-0.556590</td>\n",
       "      <td>1.388499</td>\n",
       "      <td>1.587478</td>\n",
       "    </tr>\n",
       "    <tr>\n",
       "      <th>2000-01-19</th>\n",
       "      <td>0.145843</td>\n",
       "      <td>0.233198</td>\n",
       "      <td>-0.896226</td>\n",
       "      <td>0.326833</td>\n",
       "    </tr>\n",
       "    <tr>\n",
       "      <th>2000-01-15</th>\n",
       "      <td>0.171678</td>\n",
       "      <td>1.645979</td>\n",
       "      <td>-0.787874</td>\n",
       "      <td>-0.288615</td>\n",
       "    </tr>\n",
       "    <tr>\n",
       "      <th>2000-01-14</th>\n",
       "      <td>0.254398</td>\n",
       "      <td>1.329939</td>\n",
       "      <td>2.097644</td>\n",
       "      <td>0.214907</td>\n",
       "    </tr>\n",
       "    <tr>\n",
       "      <th>2000-01-12</th>\n",
       "      <td>0.365761</td>\n",
       "      <td>1.385326</td>\n",
       "      <td>0.474791</td>\n",
       "      <td>0.246368</td>\n",
       "    </tr>\n",
       "    <tr>\n",
       "      <th>2000-01-17</th>\n",
       "      <td>0.834697</td>\n",
       "      <td>1.210338</td>\n",
       "      <td>1.104604</td>\n",
       "      <td>0.541889</td>\n",
       "    </tr>\n",
       "  </tbody>\n",
       "</table>\n",
       "</div>"
      ],
      "text/plain": [
       "                   A         B         C         D\n",
       "2000-01-13 -0.321072  0.297049 -1.057597  0.052490\n",
       "2000-01-16 -0.180851  1.050448  0.109604  1.272104\n",
       "2000-01-18 -0.140873 -0.556590  1.388499  1.587478\n",
       "2000-01-19  0.145843  0.233198 -0.896226  0.326833\n",
       "2000-01-15  0.171678  1.645979 -0.787874 -0.288615\n",
       "2000-01-14  0.254398  1.329939  2.097644  0.214907\n",
       "2000-01-12  0.365761  1.385326  0.474791  0.246368\n",
       "2000-01-17  0.834697  1.210338  1.104604  0.541889"
      ]
     },
     "execution_count": 33,
     "metadata": {},
     "output_type": "execute_result"
    }
   ],
   "source": [
    "df.sort(columns = 'A')"
   ]
  },
  {
   "cell_type": "code",
   "execution_count": 34,
   "metadata": {},
   "outputs": [
    {
     "data": {
      "text/plain": [
       "2000-01-12    0.365761\n",
       "2000-01-13   -0.321072\n",
       "2000-01-14    0.254398\n",
       "2000-01-15    0.171678\n",
       "2000-01-16   -0.180851\n",
       "2000-01-17    0.834697\n",
       "2000-01-18   -0.140873\n",
       "2000-01-19    0.145843\n",
       "Freq: D, Name: A, dtype: float64"
      ]
     },
     "execution_count": 34,
     "metadata": {},
     "output_type": "execute_result"
    }
   ],
   "source": [
    "df.A"
   ]
  },
  {
   "cell_type": "code",
   "execution_count": 35,
   "metadata": {},
   "outputs": [
    {
     "data": {
      "text/plain": [
       "2000-01-12    0.365761\n",
       "2000-01-13   -0.321072\n",
       "2000-01-14    0.254398\n",
       "2000-01-15    0.171678\n",
       "2000-01-16   -0.180851\n",
       "2000-01-17    0.834697\n",
       "2000-01-18   -0.140873\n",
       "2000-01-19    0.145843\n",
       "Freq: D, Name: A, dtype: float64"
      ]
     },
     "execution_count": 35,
     "metadata": {},
     "output_type": "execute_result"
    }
   ],
   "source": [
    "df['A']"
   ]
  },
  {
   "cell_type": "code",
   "execution_count": 36,
   "metadata": {},
   "outputs": [
    {
     "data": {
      "text/html": [
       "<div>\n",
       "<table border=\"1\" class=\"dataframe\">\n",
       "  <thead>\n",
       "    <tr style=\"text-align: right;\">\n",
       "      <th></th>\n",
       "      <th>A</th>\n",
       "      <th>B</th>\n",
       "      <th>C</th>\n",
       "      <th>D</th>\n",
       "    </tr>\n",
       "  </thead>\n",
       "  <tbody>\n",
       "    <tr>\n",
       "      <th>2000-01-12</th>\n",
       "      <td>0.365761</td>\n",
       "      <td>1.385326</td>\n",
       "      <td>0.474791</td>\n",
       "      <td>0.246368</td>\n",
       "    </tr>\n",
       "    <tr>\n",
       "      <th>2000-01-13</th>\n",
       "      <td>-0.321072</td>\n",
       "      <td>0.297049</td>\n",
       "      <td>-1.057597</td>\n",
       "      <td>0.052490</td>\n",
       "    </tr>\n",
       "    <tr>\n",
       "      <th>2000-01-14</th>\n",
       "      <td>0.254398</td>\n",
       "      <td>1.329939</td>\n",
       "      <td>2.097644</td>\n",
       "      <td>0.214907</td>\n",
       "    </tr>\n",
       "  </tbody>\n",
       "</table>\n",
       "</div>"
      ],
      "text/plain": [
       "                   A         B         C         D\n",
       "2000-01-12  0.365761  1.385326  0.474791  0.246368\n",
       "2000-01-13 -0.321072  0.297049 -1.057597  0.052490\n",
       "2000-01-14  0.254398  1.329939  2.097644  0.214907"
      ]
     },
     "execution_count": 36,
     "metadata": {},
     "output_type": "execute_result"
    }
   ],
   "source": [
    "df[0:3]"
   ]
  },
  {
   "cell_type": "code",
   "execution_count": 37,
   "metadata": {},
   "outputs": [
    {
     "data": {
      "text/plain": [
       "2000-01-12    0.365761\n",
       "2000-01-13   -0.321072\n",
       "2000-01-14    0.254398\n",
       "Freq: D, Name: A, dtype: float64"
      ]
     },
     "execution_count": 37,
     "metadata": {},
     "output_type": "execute_result"
    }
   ],
   "source": [
    "df[0:3]['A']"
   ]
  },
  {
   "cell_type": "code",
   "execution_count": 38,
   "metadata": {},
   "outputs": [
    {
     "data": {
      "text/html": [
       "<div>\n",
       "<table border=\"1\" class=\"dataframe\">\n",
       "  <thead>\n",
       "    <tr style=\"text-align: right;\">\n",
       "      <th></th>\n",
       "      <th>A</th>\n",
       "      <th>B</th>\n",
       "      <th>C</th>\n",
       "      <th>D</th>\n",
       "    </tr>\n",
       "  </thead>\n",
       "  <tbody>\n",
       "    <tr>\n",
       "      <th>2000-01-12</th>\n",
       "      <td>0.365761</td>\n",
       "      <td>1.385326</td>\n",
       "      <td>0.474791</td>\n",
       "      <td>0.246368</td>\n",
       "    </tr>\n",
       "    <tr>\n",
       "      <th>2000-01-13</th>\n",
       "      <td>-0.321072</td>\n",
       "      <td>0.297049</td>\n",
       "      <td>-1.057597</td>\n",
       "      <td>0.052490</td>\n",
       "    </tr>\n",
       "    <tr>\n",
       "      <th>2000-01-14</th>\n",
       "      <td>0.254398</td>\n",
       "      <td>1.329939</td>\n",
       "      <td>2.097644</td>\n",
       "      <td>0.214907</td>\n",
       "    </tr>\n",
       "    <tr>\n",
       "      <th>2000-01-15</th>\n",
       "      <td>0.171678</td>\n",
       "      <td>1.645979</td>\n",
       "      <td>-0.787874</td>\n",
       "      <td>-0.288615</td>\n",
       "    </tr>\n",
       "    <tr>\n",
       "      <th>2000-01-16</th>\n",
       "      <td>-0.180851</td>\n",
       "      <td>1.050448</td>\n",
       "      <td>0.109604</td>\n",
       "      <td>1.272104</td>\n",
       "    </tr>\n",
       "    <tr>\n",
       "      <th>2000-01-17</th>\n",
       "      <td>0.834697</td>\n",
       "      <td>1.210338</td>\n",
       "      <td>1.104604</td>\n",
       "      <td>0.541889</td>\n",
       "    </tr>\n",
       "  </tbody>\n",
       "</table>\n",
       "</div>"
      ],
      "text/plain": [
       "                   A         B         C         D\n",
       "2000-01-12  0.365761  1.385326  0.474791  0.246368\n",
       "2000-01-13 -0.321072  0.297049 -1.057597  0.052490\n",
       "2000-01-14  0.254398  1.329939  2.097644  0.214907\n",
       "2000-01-15  0.171678  1.645979 -0.787874 -0.288615\n",
       "2000-01-16 -0.180851  1.050448  0.109604  1.272104\n",
       "2000-01-17  0.834697  1.210338  1.104604  0.541889"
      ]
     },
     "execution_count": 38,
     "metadata": {},
     "output_type": "execute_result"
    }
   ],
   "source": [
    "df['2000-01-12':'2000-01-17']"
   ]
  },
  {
   "cell_type": "code",
   "execution_count": 40,
   "metadata": {},
   "outputs": [
    {
     "ename": "KeyError",
     "evalue": "('A', 'B')",
     "output_type": "error",
     "traceback": [
      "\u001b[0;31m---------------------------------------------------------------------------\u001b[0m",
      "\u001b[0;31mKeyError\u001b[0m                                  Traceback (most recent call last)",
      "\u001b[0;32m<ipython-input-40-3fc6c44cefd1>\u001b[0m in \u001b[0;36m<module>\u001b[0;34m()\u001b[0m\n\u001b[0;32m----> 1\u001b[0;31m \u001b[0mdf\u001b[0m\u001b[1;33m[\u001b[0m\u001b[1;34m'A'\u001b[0m\u001b[1;33m,\u001b[0m\u001b[1;34m'B'\u001b[0m\u001b[1;33m]\u001b[0m\u001b[1;33m\u001b[0m\u001b[0m\n\u001b[0m",
      "\u001b[0;32mC:\\python\\Anaconda\\lib\\site-packages\\pandas\\core\\frame.pyc\u001b[0m in \u001b[0;36m__getitem__\u001b[0;34m(self, key)\u001b[0m\n\u001b[1;32m   1995\u001b[0m             \u001b[1;32mreturn\u001b[0m \u001b[0mself\u001b[0m\u001b[1;33m.\u001b[0m\u001b[0m_getitem_multilevel\u001b[0m\u001b[1;33m(\u001b[0m\u001b[0mkey\u001b[0m\u001b[1;33m)\u001b[0m\u001b[1;33m\u001b[0m\u001b[0m\n\u001b[1;32m   1996\u001b[0m         \u001b[1;32melse\u001b[0m\u001b[1;33m:\u001b[0m\u001b[1;33m\u001b[0m\u001b[0m\n\u001b[0;32m-> 1997\u001b[0;31m             \u001b[1;32mreturn\u001b[0m \u001b[0mself\u001b[0m\u001b[1;33m.\u001b[0m\u001b[0m_getitem_column\u001b[0m\u001b[1;33m(\u001b[0m\u001b[0mkey\u001b[0m\u001b[1;33m)\u001b[0m\u001b[1;33m\u001b[0m\u001b[0m\n\u001b[0m\u001b[1;32m   1998\u001b[0m \u001b[1;33m\u001b[0m\u001b[0m\n\u001b[1;32m   1999\u001b[0m     \u001b[1;32mdef\u001b[0m \u001b[0m_getitem_column\u001b[0m\u001b[1;33m(\u001b[0m\u001b[0mself\u001b[0m\u001b[1;33m,\u001b[0m \u001b[0mkey\u001b[0m\u001b[1;33m)\u001b[0m\u001b[1;33m:\u001b[0m\u001b[1;33m\u001b[0m\u001b[0m\n",
      "\u001b[0;32mC:\\python\\Anaconda\\lib\\site-packages\\pandas\\core\\frame.pyc\u001b[0m in \u001b[0;36m_getitem_column\u001b[0;34m(self, key)\u001b[0m\n\u001b[1;32m   2002\u001b[0m         \u001b[1;31m# get column\u001b[0m\u001b[1;33m\u001b[0m\u001b[1;33m\u001b[0m\u001b[0m\n\u001b[1;32m   2003\u001b[0m         \u001b[1;32mif\u001b[0m \u001b[0mself\u001b[0m\u001b[1;33m.\u001b[0m\u001b[0mcolumns\u001b[0m\u001b[1;33m.\u001b[0m\u001b[0mis_unique\u001b[0m\u001b[1;33m:\u001b[0m\u001b[1;33m\u001b[0m\u001b[0m\n\u001b[0;32m-> 2004\u001b[0;31m             \u001b[1;32mreturn\u001b[0m \u001b[0mself\u001b[0m\u001b[1;33m.\u001b[0m\u001b[0m_get_item_cache\u001b[0m\u001b[1;33m(\u001b[0m\u001b[0mkey\u001b[0m\u001b[1;33m)\u001b[0m\u001b[1;33m\u001b[0m\u001b[0m\n\u001b[0m\u001b[1;32m   2005\u001b[0m \u001b[1;33m\u001b[0m\u001b[0m\n\u001b[1;32m   2006\u001b[0m         \u001b[1;31m# duplicate columns & possible reduce dimensionality\u001b[0m\u001b[1;33m\u001b[0m\u001b[1;33m\u001b[0m\u001b[0m\n",
      "\u001b[0;32mC:\\python\\Anaconda\\lib\\site-packages\\pandas\\core\\generic.pyc\u001b[0m in \u001b[0;36m_get_item_cache\u001b[0;34m(self, item)\u001b[0m\n\u001b[1;32m   1348\u001b[0m         \u001b[0mres\u001b[0m \u001b[1;33m=\u001b[0m \u001b[0mcache\u001b[0m\u001b[1;33m.\u001b[0m\u001b[0mget\u001b[0m\u001b[1;33m(\u001b[0m\u001b[0mitem\u001b[0m\u001b[1;33m)\u001b[0m\u001b[1;33m\u001b[0m\u001b[0m\n\u001b[1;32m   1349\u001b[0m         \u001b[1;32mif\u001b[0m \u001b[0mres\u001b[0m \u001b[1;32mis\u001b[0m \u001b[0mNone\u001b[0m\u001b[1;33m:\u001b[0m\u001b[1;33m\u001b[0m\u001b[0m\n\u001b[0;32m-> 1350\u001b[0;31m             \u001b[0mvalues\u001b[0m \u001b[1;33m=\u001b[0m \u001b[0mself\u001b[0m\u001b[1;33m.\u001b[0m\u001b[0m_data\u001b[0m\u001b[1;33m.\u001b[0m\u001b[0mget\u001b[0m\u001b[1;33m(\u001b[0m\u001b[0mitem\u001b[0m\u001b[1;33m)\u001b[0m\u001b[1;33m\u001b[0m\u001b[0m\n\u001b[0m\u001b[1;32m   1351\u001b[0m             \u001b[0mres\u001b[0m \u001b[1;33m=\u001b[0m \u001b[0mself\u001b[0m\u001b[1;33m.\u001b[0m\u001b[0m_box_item_values\u001b[0m\u001b[1;33m(\u001b[0m\u001b[0mitem\u001b[0m\u001b[1;33m,\u001b[0m \u001b[0mvalues\u001b[0m\u001b[1;33m)\u001b[0m\u001b[1;33m\u001b[0m\u001b[0m\n\u001b[1;32m   1352\u001b[0m             \u001b[0mcache\u001b[0m\u001b[1;33m[\u001b[0m\u001b[0mitem\u001b[0m\u001b[1;33m]\u001b[0m \u001b[1;33m=\u001b[0m \u001b[0mres\u001b[0m\u001b[1;33m\u001b[0m\u001b[0m\n",
      "\u001b[0;32mC:\\python\\Anaconda\\lib\\site-packages\\pandas\\core\\internals.pyc\u001b[0m in \u001b[0;36mget\u001b[0;34m(self, item, fastpath)\u001b[0m\n\u001b[1;32m   3288\u001b[0m \u001b[1;33m\u001b[0m\u001b[0m\n\u001b[1;32m   3289\u001b[0m             \u001b[1;32mif\u001b[0m \u001b[1;32mnot\u001b[0m \u001b[0misnull\u001b[0m\u001b[1;33m(\u001b[0m\u001b[0mitem\u001b[0m\u001b[1;33m)\u001b[0m\u001b[1;33m:\u001b[0m\u001b[1;33m\u001b[0m\u001b[0m\n\u001b[0;32m-> 3290\u001b[0;31m                 \u001b[0mloc\u001b[0m \u001b[1;33m=\u001b[0m \u001b[0mself\u001b[0m\u001b[1;33m.\u001b[0m\u001b[0mitems\u001b[0m\u001b[1;33m.\u001b[0m\u001b[0mget_loc\u001b[0m\u001b[1;33m(\u001b[0m\u001b[0mitem\u001b[0m\u001b[1;33m)\u001b[0m\u001b[1;33m\u001b[0m\u001b[0m\n\u001b[0m\u001b[1;32m   3291\u001b[0m             \u001b[1;32melse\u001b[0m\u001b[1;33m:\u001b[0m\u001b[1;33m\u001b[0m\u001b[0m\n\u001b[1;32m   3292\u001b[0m                 \u001b[0mindexer\u001b[0m \u001b[1;33m=\u001b[0m \u001b[0mnp\u001b[0m\u001b[1;33m.\u001b[0m\u001b[0marange\u001b[0m\u001b[1;33m(\u001b[0m\u001b[0mlen\u001b[0m\u001b[1;33m(\u001b[0m\u001b[0mself\u001b[0m\u001b[1;33m.\u001b[0m\u001b[0mitems\u001b[0m\u001b[1;33m)\u001b[0m\u001b[1;33m)\u001b[0m\u001b[1;33m[\u001b[0m\u001b[0misnull\u001b[0m\u001b[1;33m(\u001b[0m\u001b[0mself\u001b[0m\u001b[1;33m.\u001b[0m\u001b[0mitems\u001b[0m\u001b[1;33m)\u001b[0m\u001b[1;33m]\u001b[0m\u001b[1;33m\u001b[0m\u001b[0m\n",
      "\u001b[0;32mC:\\python\\Anaconda\\lib\\site-packages\\pandas\\indexes\\base.pyc\u001b[0m in \u001b[0;36mget_loc\u001b[0;34m(self, key, method, tolerance)\u001b[0m\n\u001b[1;32m   1945\u001b[0m                 \u001b[1;32mreturn\u001b[0m \u001b[0mself\u001b[0m\u001b[1;33m.\u001b[0m\u001b[0m_engine\u001b[0m\u001b[1;33m.\u001b[0m\u001b[0mget_loc\u001b[0m\u001b[1;33m(\u001b[0m\u001b[0mkey\u001b[0m\u001b[1;33m)\u001b[0m\u001b[1;33m\u001b[0m\u001b[0m\n\u001b[1;32m   1946\u001b[0m             \u001b[1;32mexcept\u001b[0m \u001b[0mKeyError\u001b[0m\u001b[1;33m:\u001b[0m\u001b[1;33m\u001b[0m\u001b[0m\n\u001b[0;32m-> 1947\u001b[0;31m                 \u001b[1;32mreturn\u001b[0m \u001b[0mself\u001b[0m\u001b[1;33m.\u001b[0m\u001b[0m_engine\u001b[0m\u001b[1;33m.\u001b[0m\u001b[0mget_loc\u001b[0m\u001b[1;33m(\u001b[0m\u001b[0mself\u001b[0m\u001b[1;33m.\u001b[0m\u001b[0m_maybe_cast_indexer\u001b[0m\u001b[1;33m(\u001b[0m\u001b[0mkey\u001b[0m\u001b[1;33m)\u001b[0m\u001b[1;33m)\u001b[0m\u001b[1;33m\u001b[0m\u001b[0m\n\u001b[0m\u001b[1;32m   1948\u001b[0m \u001b[1;33m\u001b[0m\u001b[0m\n\u001b[1;32m   1949\u001b[0m         \u001b[0mindexer\u001b[0m \u001b[1;33m=\u001b[0m \u001b[0mself\u001b[0m\u001b[1;33m.\u001b[0m\u001b[0mget_indexer\u001b[0m\u001b[1;33m(\u001b[0m\u001b[1;33m[\u001b[0m\u001b[0mkey\u001b[0m\u001b[1;33m]\u001b[0m\u001b[1;33m,\u001b[0m \u001b[0mmethod\u001b[0m\u001b[1;33m=\u001b[0m\u001b[0mmethod\u001b[0m\u001b[1;33m,\u001b[0m \u001b[0mtolerance\u001b[0m\u001b[1;33m=\u001b[0m\u001b[0mtolerance\u001b[0m\u001b[1;33m)\u001b[0m\u001b[1;33m\u001b[0m\u001b[0m\n",
      "\u001b[0;32mpandas\\index.pyx\u001b[0m in \u001b[0;36mpandas.index.IndexEngine.get_loc (pandas\\index.c:4154)\u001b[0;34m()\u001b[0m\n",
      "\u001b[0;32mpandas\\index.pyx\u001b[0m in \u001b[0;36mpandas.index.IndexEngine.get_loc (pandas\\index.c:4018)\u001b[0;34m()\u001b[0m\n",
      "\u001b[0;32mpandas\\hashtable.pyx\u001b[0m in \u001b[0;36mpandas.hashtable.PyObjectHashTable.get_item (pandas\\hashtable.c:12368)\u001b[0;34m()\u001b[0m\n",
      "\u001b[0;32mpandas\\hashtable.pyx\u001b[0m in \u001b[0;36mpandas.hashtable.PyObjectHashTable.get_item (pandas\\hashtable.c:12322)\u001b[0;34m()\u001b[0m\n",
      "\u001b[0;31mKeyError\u001b[0m: ('A', 'B')"
     ]
    }
   ],
   "source": [
    "df['A','B']"
   ]
  },
  {
   "cell_type": "code",
   "execution_count": 41,
   "metadata": {},
   "outputs": [
    {
     "data": {
      "text/plain": [
       "A    0.365761\n",
       "B    1.385326\n",
       "C    0.474791\n",
       "D    0.246368\n",
       "Name: 2000-01-12 00:00:00, dtype: float64"
      ]
     },
     "execution_count": 41,
     "metadata": {},
     "output_type": "execute_result"
    }
   ],
   "source": [
    "df.loc[dates[0]]"
   ]
  },
  {
   "cell_type": "code",
   "execution_count": 45,
   "metadata": {},
   "outputs": [
    {
     "data": {
      "text/plain": [
       "A   -0.321072\n",
       "B    0.297049\n",
       "C   -1.057597\n",
       "D    0.052490\n",
       "Name: 2000-01-13 00:00:00, dtype: float64"
      ]
     },
     "execution_count": 45,
     "metadata": {},
     "output_type": "execute_result"
    }
   ],
   "source": [
    "df.loc[dates[1]]"
   ]
  },
  {
   "cell_type": "code",
   "execution_count": 48,
   "metadata": {},
   "outputs": [
    {
     "data": {
      "text/html": [
       "<div>\n",
       "<table border=\"1\" class=\"dataframe\">\n",
       "  <thead>\n",
       "    <tr style=\"text-align: right;\">\n",
       "      <th></th>\n",
       "      <th>A</th>\n",
       "      <th>C</th>\n",
       "    </tr>\n",
       "  </thead>\n",
       "  <tbody>\n",
       "    <tr>\n",
       "      <th>2000-01-12</th>\n",
       "      <td>0.365761</td>\n",
       "      <td>0.474791</td>\n",
       "    </tr>\n",
       "    <tr>\n",
       "      <th>2000-01-13</th>\n",
       "      <td>-0.321072</td>\n",
       "      <td>-1.057597</td>\n",
       "    </tr>\n",
       "    <tr>\n",
       "      <th>2000-01-14</th>\n",
       "      <td>0.254398</td>\n",
       "      <td>2.097644</td>\n",
       "    </tr>\n",
       "    <tr>\n",
       "      <th>2000-01-15</th>\n",
       "      <td>0.171678</td>\n",
       "      <td>-0.787874</td>\n",
       "    </tr>\n",
       "    <tr>\n",
       "      <th>2000-01-16</th>\n",
       "      <td>-0.180851</td>\n",
       "      <td>0.109604</td>\n",
       "    </tr>\n",
       "    <tr>\n",
       "      <th>2000-01-17</th>\n",
       "      <td>0.834697</td>\n",
       "      <td>1.104604</td>\n",
       "    </tr>\n",
       "    <tr>\n",
       "      <th>2000-01-18</th>\n",
       "      <td>-0.140873</td>\n",
       "      <td>1.388499</td>\n",
       "    </tr>\n",
       "    <tr>\n",
       "      <th>2000-01-19</th>\n",
       "      <td>0.145843</td>\n",
       "      <td>-0.896226</td>\n",
       "    </tr>\n",
       "  </tbody>\n",
       "</table>\n",
       "</div>"
      ],
      "text/plain": [
       "                   A         C\n",
       "2000-01-12  0.365761  0.474791\n",
       "2000-01-13 -0.321072 -1.057597\n",
       "2000-01-14  0.254398  2.097644\n",
       "2000-01-15  0.171678 -0.787874\n",
       "2000-01-16 -0.180851  0.109604\n",
       "2000-01-17  0.834697  1.104604\n",
       "2000-01-18 -0.140873  1.388499\n",
       "2000-01-19  0.145843 -0.896226"
      ]
     },
     "execution_count": 48,
     "metadata": {},
     "output_type": "execute_result"
    }
   ],
   "source": [
    "df.loc[:,['A', 'C']]"
   ]
  },
  {
   "cell_type": "code",
   "execution_count": 50,
   "metadata": {},
   "outputs": [
    {
     "data": {
      "text/html": [
       "<div>\n",
       "<table border=\"1\" class=\"dataframe\">\n",
       "  <thead>\n",
       "    <tr style=\"text-align: right;\">\n",
       "      <th></th>\n",
       "      <th>A</th>\n",
       "      <th>C</th>\n",
       "    </tr>\n",
       "  </thead>\n",
       "  <tbody>\n",
       "    <tr>\n",
       "      <th>2000-01-13</th>\n",
       "      <td>-0.321072</td>\n",
       "      <td>-1.057597</td>\n",
       "    </tr>\n",
       "    <tr>\n",
       "      <th>2000-01-14</th>\n",
       "      <td>0.254398</td>\n",
       "      <td>2.097644</td>\n",
       "    </tr>\n",
       "    <tr>\n",
       "      <th>2000-01-15</th>\n",
       "      <td>0.171678</td>\n",
       "      <td>-0.787874</td>\n",
       "    </tr>\n",
       "    <tr>\n",
       "      <th>2000-01-16</th>\n",
       "      <td>-0.180851</td>\n",
       "      <td>0.109604</td>\n",
       "    </tr>\n",
       "    <tr>\n",
       "      <th>2000-01-17</th>\n",
       "      <td>0.834697</td>\n",
       "      <td>1.104604</td>\n",
       "    </tr>\n",
       "    <tr>\n",
       "      <th>2000-01-18</th>\n",
       "      <td>-0.140873</td>\n",
       "      <td>1.388499</td>\n",
       "    </tr>\n",
       "    <tr>\n",
       "      <th>2000-01-19</th>\n",
       "      <td>0.145843</td>\n",
       "      <td>-0.896226</td>\n",
       "    </tr>\n",
       "  </tbody>\n",
       "</table>\n",
       "</div>"
      ],
      "text/plain": [
       "                   A         C\n",
       "2000-01-13 -0.321072 -1.057597\n",
       "2000-01-14  0.254398  2.097644\n",
       "2000-01-15  0.171678 -0.787874\n",
       "2000-01-16 -0.180851  0.109604\n",
       "2000-01-17  0.834697  1.104604\n",
       "2000-01-18 -0.140873  1.388499\n",
       "2000-01-19  0.145843 -0.896226"
      ]
     },
     "execution_count": 50,
     "metadata": {},
     "output_type": "execute_result"
    }
   ],
   "source": [
    "df.loc['2000-01-13':'2000-01-27',['A', 'C']]"
   ]
  },
  {
   "cell_type": "code",
   "execution_count": 51,
   "metadata": {},
   "outputs": [
    {
     "data": {
      "text/plain": [
       "A   -0.321072\n",
       "C   -1.057597\n",
       "Name: 2000-01-13 00:00:00, dtype: float64"
      ]
     },
     "execution_count": 51,
     "metadata": {},
     "output_type": "execute_result"
    }
   ],
   "source": [
    "df.loc['2000-01-13',['A', 'C']]"
   ]
  },
  {
   "cell_type": "code",
   "execution_count": 52,
   "metadata": {},
   "outputs": [
    {
     "data": {
      "text/plain": [
       "A    0.365761\n",
       "C    0.474791\n",
       "Name: 2000-01-12 00:00:00, dtype: float64"
      ]
     },
     "execution_count": 52,
     "metadata": {},
     "output_type": "execute_result"
    }
   ],
   "source": [
    "df.loc[dates[0],['A', 'C']]"
   ]
  },
  {
   "cell_type": "code",
   "execution_count": 55,
   "metadata": {},
   "outputs": [
    {
     "data": {
      "text/plain": [
       "0.36576063257694236"
      ]
     },
     "execution_count": 55,
     "metadata": {},
     "output_type": "execute_result"
    }
   ],
   "source": [
    "df.at[dates[0],'A']"
   ]
  },
  {
   "cell_type": "code",
   "execution_count": 56,
   "metadata": {},
   "outputs": [
    {
     "ename": "TypeError",
     "evalue": "get_value() got multiple values for keyword argument 'takeable'",
     "output_type": "error",
     "traceback": [
      "\u001b[0;31m---------------------------------------------------------------------------\u001b[0m",
      "\u001b[0;31mTypeError\u001b[0m                                 Traceback (most recent call last)",
      "\u001b[0;32m<ipython-input-56-76a7a7b8cb7f>\u001b[0m in \u001b[0;36m<module>\u001b[0;34m()\u001b[0m\n\u001b[0;32m----> 1\u001b[0;31m \u001b[0mdf\u001b[0m\u001b[1;33m.\u001b[0m\u001b[0mat\u001b[0m\u001b[1;33m[\u001b[0m\u001b[0mdates\u001b[0m\u001b[1;33m[\u001b[0m\u001b[1;36m0\u001b[0m\u001b[1;33m]\u001b[0m\u001b[1;33m,\u001b[0m\u001b[1;34m'A'\u001b[0m\u001b[1;33m,\u001b[0m \u001b[1;34m'C'\u001b[0m\u001b[1;33m]\u001b[0m\u001b[1;33m\u001b[0m\u001b[0m\n\u001b[0m",
      "\u001b[0;32mC:\\python\\Anaconda\\lib\\site-packages\\pandas\\core\\indexing.pyc\u001b[0m in \u001b[0;36m__getitem__\u001b[0;34m(self, key)\u001b[0m\n\u001b[1;32m   1647\u001b[0m \u001b[1;33m\u001b[0m\u001b[0m\n\u001b[1;32m   1648\u001b[0m         \u001b[0mkey\u001b[0m \u001b[1;33m=\u001b[0m \u001b[0mself\u001b[0m\u001b[1;33m.\u001b[0m\u001b[0m_convert_key\u001b[0m\u001b[1;33m(\u001b[0m\u001b[0mkey\u001b[0m\u001b[1;33m)\u001b[0m\u001b[1;33m\u001b[0m\u001b[0m\n\u001b[0;32m-> 1649\u001b[0;31m         \u001b[1;32mreturn\u001b[0m \u001b[0mself\u001b[0m\u001b[1;33m.\u001b[0m\u001b[0mobj\u001b[0m\u001b[1;33m.\u001b[0m\u001b[0mget_value\u001b[0m\u001b[1;33m(\u001b[0m\u001b[1;33m*\u001b[0m\u001b[0mkey\u001b[0m\u001b[1;33m,\u001b[0m \u001b[0mtakeable\u001b[0m\u001b[1;33m=\u001b[0m\u001b[0mself\u001b[0m\u001b[1;33m.\u001b[0m\u001b[0m_takeable\u001b[0m\u001b[1;33m)\u001b[0m\u001b[1;33m\u001b[0m\u001b[0m\n\u001b[0m\u001b[1;32m   1650\u001b[0m \u001b[1;33m\u001b[0m\u001b[0m\n\u001b[1;32m   1651\u001b[0m     \u001b[1;32mdef\u001b[0m \u001b[0m__setitem__\u001b[0m\u001b[1;33m(\u001b[0m\u001b[0mself\u001b[0m\u001b[1;33m,\u001b[0m \u001b[0mkey\u001b[0m\u001b[1;33m,\u001b[0m \u001b[0mvalue\u001b[0m\u001b[1;33m)\u001b[0m\u001b[1;33m:\u001b[0m\u001b[1;33m\u001b[0m\u001b[0m\n",
      "\u001b[0;31mTypeError\u001b[0m: get_value() got multiple values for keyword argument 'takeable'"
     ]
    }
   ],
   "source": [
    "df.at[dates[0],'A', 'C']"
   ]
  },
  {
   "cell_type": "code",
   "execution_count": 57,
   "metadata": {},
   "outputs": [
    {
     "data": {
      "text/plain": [
       "A    0.171678\n",
       "B    1.645979\n",
       "C   -0.787874\n",
       "D   -0.288615\n",
       "Name: 2000-01-15 00:00:00, dtype: float64"
      ]
     },
     "execution_count": 57,
     "metadata": {},
     "output_type": "execute_result"
    }
   ],
   "source": [
    "df.iloc[3]"
   ]
  },
  {
   "cell_type": "code",
   "execution_count": 58,
   "metadata": {},
   "outputs": [
    {
     "data": {
      "text/plain": [
       "A    0.171678\n",
       "B    1.645979\n",
       "Name: 2000-01-15 00:00:00, dtype: float64"
      ]
     },
     "execution_count": 58,
     "metadata": {},
     "output_type": "execute_result"
    }
   ],
   "source": [
    "df.iloc[3, 0:2]"
   ]
  },
  {
   "cell_type": "code",
   "execution_count": 59,
   "metadata": {},
   "outputs": [
    {
     "data": {
      "text/html": [
       "<div>\n",
       "<table border=\"1\" class=\"dataframe\">\n",
       "  <thead>\n",
       "    <tr style=\"text-align: right;\">\n",
       "      <th></th>\n",
       "      <th>B</th>\n",
       "      <th>C</th>\n",
       "    </tr>\n",
       "  </thead>\n",
       "  <tbody>\n",
       "    <tr>\n",
       "      <th>2000-01-15</th>\n",
       "      <td>1.645979</td>\n",
       "      <td>-0.787874</td>\n",
       "    </tr>\n",
       "    <tr>\n",
       "      <th>2000-01-16</th>\n",
       "      <td>1.050448</td>\n",
       "      <td>0.109604</td>\n",
       "    </tr>\n",
       "  </tbody>\n",
       "</table>\n",
       "</div>"
      ],
      "text/plain": [
       "                   B         C\n",
       "2000-01-15  1.645979 -0.787874\n",
       "2000-01-16  1.050448  0.109604"
      ]
     },
     "execution_count": 59,
     "metadata": {},
     "output_type": "execute_result"
    }
   ],
   "source": [
    "df.iloc[3:5, 1:3]"
   ]
  },
  {
   "cell_type": "code",
   "execution_count": 61,
   "metadata": {},
   "outputs": [
    {
     "data": {
      "text/html": [
       "<div>\n",
       "<table border=\"1\" class=\"dataframe\">\n",
       "  <thead>\n",
       "    <tr style=\"text-align: right;\">\n",
       "      <th></th>\n",
       "      <th>A</th>\n",
       "      <th>B</th>\n",
       "      <th>C</th>\n",
       "      <th>D</th>\n",
       "    </tr>\n",
       "  </thead>\n",
       "  <tbody>\n",
       "    <tr>\n",
       "      <th>2000-01-13</th>\n",
       "      <td>-0.321072</td>\n",
       "      <td>0.297049</td>\n",
       "      <td>-1.057597</td>\n",
       "      <td>0.052490</td>\n",
       "    </tr>\n",
       "    <tr>\n",
       "      <th>2000-01-14</th>\n",
       "      <td>0.254398</td>\n",
       "      <td>1.329939</td>\n",
       "      <td>2.097644</td>\n",
       "      <td>0.214907</td>\n",
       "    </tr>\n",
       "  </tbody>\n",
       "</table>\n",
       "</div>"
      ],
      "text/plain": [
       "                   A         B         C         D\n",
       "2000-01-13 -0.321072  0.297049 -1.057597  0.052490\n",
       "2000-01-14  0.254398  1.329939  2.097644  0.214907"
      ]
     },
     "execution_count": 61,
     "metadata": {},
     "output_type": "execute_result"
    }
   ],
   "source": [
    "df.iloc[1:3, :]"
   ]
  },
  {
   "cell_type": "code",
   "execution_count": 62,
   "metadata": {},
   "outputs": [
    {
     "data": {
      "text/plain": [
       "0.29704902613089057"
      ]
     },
     "execution_count": 62,
     "metadata": {},
     "output_type": "execute_result"
    }
   ],
   "source": [
    "df.iloc[1,1]"
   ]
  },
  {
   "cell_type": "code",
   "execution_count": 63,
   "metadata": {},
   "outputs": [
    {
     "data": {
      "text/plain": [
       "0.29704902613089057"
      ]
     },
     "execution_count": 63,
     "metadata": {},
     "output_type": "execute_result"
    }
   ],
   "source": [
    "df.iat[1,1]"
   ]
  },
  {
   "cell_type": "code",
   "execution_count": 64,
   "metadata": {},
   "outputs": [
    {
     "data": {
      "text/html": [
       "<div>\n",
       "<table border=\"1\" class=\"dataframe\">\n",
       "  <thead>\n",
       "    <tr style=\"text-align: right;\">\n",
       "      <th></th>\n",
       "      <th>A</th>\n",
       "      <th>B</th>\n",
       "      <th>C</th>\n",
       "      <th>D</th>\n",
       "    </tr>\n",
       "  </thead>\n",
       "  <tbody>\n",
       "    <tr>\n",
       "      <th>2000-01-12</th>\n",
       "      <td>0.365761</td>\n",
       "      <td>1.385326</td>\n",
       "      <td>0.474791</td>\n",
       "      <td>0.246368</td>\n",
       "    </tr>\n",
       "    <tr>\n",
       "      <th>2000-01-14</th>\n",
       "      <td>0.254398</td>\n",
       "      <td>1.329939</td>\n",
       "      <td>2.097644</td>\n",
       "      <td>0.214907</td>\n",
       "    </tr>\n",
       "    <tr>\n",
       "      <th>2000-01-15</th>\n",
       "      <td>0.171678</td>\n",
       "      <td>1.645979</td>\n",
       "      <td>-0.787874</td>\n",
       "      <td>-0.288615</td>\n",
       "    </tr>\n",
       "    <tr>\n",
       "      <th>2000-01-17</th>\n",
       "      <td>0.834697</td>\n",
       "      <td>1.210338</td>\n",
       "      <td>1.104604</td>\n",
       "      <td>0.541889</td>\n",
       "    </tr>\n",
       "    <tr>\n",
       "      <th>2000-01-19</th>\n",
       "      <td>0.145843</td>\n",
       "      <td>0.233198</td>\n",
       "      <td>-0.896226</td>\n",
       "      <td>0.326833</td>\n",
       "    </tr>\n",
       "  </tbody>\n",
       "</table>\n",
       "</div>"
      ],
      "text/plain": [
       "                   A         B         C         D\n",
       "2000-01-12  0.365761  1.385326  0.474791  0.246368\n",
       "2000-01-14  0.254398  1.329939  2.097644  0.214907\n",
       "2000-01-15  0.171678  1.645979 -0.787874 -0.288615\n",
       "2000-01-17  0.834697  1.210338  1.104604  0.541889\n",
       "2000-01-19  0.145843  0.233198 -0.896226  0.326833"
      ]
     },
     "execution_count": 64,
     "metadata": {},
     "output_type": "execute_result"
    }
   ],
   "source": [
    "df[df['A']>0]"
   ]
  },
  {
   "cell_type": "code",
   "execution_count": 65,
   "metadata": {},
   "outputs": [
    {
     "data": {
      "text/html": [
       "<div>\n",
       "<table border=\"1\" class=\"dataframe\">\n",
       "  <thead>\n",
       "    <tr style=\"text-align: right;\">\n",
       "      <th></th>\n",
       "      <th>A</th>\n",
       "      <th>B</th>\n",
       "      <th>C</th>\n",
       "      <th>D</th>\n",
       "    </tr>\n",
       "  </thead>\n",
       "  <tbody>\n",
       "  </tbody>\n",
       "</table>\n",
       "</div>"
      ],
      "text/plain": [
       "Empty DataFrame\n",
       "Columns: [A, B, C, D]\n",
       "Index: []"
      ]
     },
     "execution_count": 65,
     "metadata": {},
     "output_type": "execute_result"
    }
   ],
   "source": [
    "df[df.A>1]"
   ]
  },
  {
   "cell_type": "code",
   "execution_count": 66,
   "metadata": {},
   "outputs": [
    {
     "data": {
      "text/html": [
       "<div>\n",
       "<table border=\"1\" class=\"dataframe\">\n",
       "  <thead>\n",
       "    <tr style=\"text-align: right;\">\n",
       "      <th></th>\n",
       "      <th>A</th>\n",
       "      <th>B</th>\n",
       "      <th>C</th>\n",
       "      <th>D</th>\n",
       "    </tr>\n",
       "  </thead>\n",
       "  <tbody>\n",
       "    <tr>\n",
       "      <th>2000-01-12</th>\n",
       "      <td>0.365761</td>\n",
       "      <td>1.385326</td>\n",
       "      <td>0.474791</td>\n",
       "      <td>0.246368</td>\n",
       "    </tr>\n",
       "    <tr>\n",
       "      <th>2000-01-13</th>\n",
       "      <td>NaN</td>\n",
       "      <td>0.297049</td>\n",
       "      <td>NaN</td>\n",
       "      <td>0.052490</td>\n",
       "    </tr>\n",
       "    <tr>\n",
       "      <th>2000-01-14</th>\n",
       "      <td>0.254398</td>\n",
       "      <td>1.329939</td>\n",
       "      <td>2.097644</td>\n",
       "      <td>0.214907</td>\n",
       "    </tr>\n",
       "    <tr>\n",
       "      <th>2000-01-15</th>\n",
       "      <td>0.171678</td>\n",
       "      <td>1.645979</td>\n",
       "      <td>NaN</td>\n",
       "      <td>NaN</td>\n",
       "    </tr>\n",
       "    <tr>\n",
       "      <th>2000-01-16</th>\n",
       "      <td>NaN</td>\n",
       "      <td>1.050448</td>\n",
       "      <td>0.109604</td>\n",
       "      <td>1.272104</td>\n",
       "    </tr>\n",
       "    <tr>\n",
       "      <th>2000-01-17</th>\n",
       "      <td>0.834697</td>\n",
       "      <td>1.210338</td>\n",
       "      <td>1.104604</td>\n",
       "      <td>0.541889</td>\n",
       "    </tr>\n",
       "    <tr>\n",
       "      <th>2000-01-18</th>\n",
       "      <td>NaN</td>\n",
       "      <td>NaN</td>\n",
       "      <td>1.388499</td>\n",
       "      <td>1.587478</td>\n",
       "    </tr>\n",
       "    <tr>\n",
       "      <th>2000-01-19</th>\n",
       "      <td>0.145843</td>\n",
       "      <td>0.233198</td>\n",
       "      <td>NaN</td>\n",
       "      <td>0.326833</td>\n",
       "    </tr>\n",
       "  </tbody>\n",
       "</table>\n",
       "</div>"
      ],
      "text/plain": [
       "                   A         B         C         D\n",
       "2000-01-12  0.365761  1.385326  0.474791  0.246368\n",
       "2000-01-13       NaN  0.297049       NaN  0.052490\n",
       "2000-01-14  0.254398  1.329939  2.097644  0.214907\n",
       "2000-01-15  0.171678  1.645979       NaN       NaN\n",
       "2000-01-16       NaN  1.050448  0.109604  1.272104\n",
       "2000-01-17  0.834697  1.210338  1.104604  0.541889\n",
       "2000-01-18       NaN       NaN  1.388499  1.587478\n",
       "2000-01-19  0.145843  0.233198       NaN  0.326833"
      ]
     },
     "execution_count": 66,
     "metadata": {},
     "output_type": "execute_result"
    }
   ],
   "source": [
    "df[df>0]"
   ]
  },
  {
   "cell_type": "code",
   "execution_count": 72,
   "metadata": {},
   "outputs": [],
   "source": [
    "df2 = df.copy()"
   ]
  },
  {
   "cell_type": "code",
   "execution_count": 74,
   "metadata": {},
   "outputs": [],
   "source": [
    "df2['E']=['one', 'one','two','three','four','three', 'four','three']"
   ]
  },
  {
   "cell_type": "code",
   "execution_count": 75,
   "metadata": {
    "scrolled": true
   },
   "outputs": [
    {
     "data": {
      "text/html": [
       "<div>\n",
       "<table border=\"1\" class=\"dataframe\">\n",
       "  <thead>\n",
       "    <tr style=\"text-align: right;\">\n",
       "      <th></th>\n",
       "      <th>A</th>\n",
       "      <th>B</th>\n",
       "      <th>C</th>\n",
       "      <th>D</th>\n",
       "      <th>E</th>\n",
       "    </tr>\n",
       "  </thead>\n",
       "  <tbody>\n",
       "    <tr>\n",
       "      <th>2000-01-12</th>\n",
       "      <td>0.365761</td>\n",
       "      <td>1.385326</td>\n",
       "      <td>0.474791</td>\n",
       "      <td>0.246368</td>\n",
       "      <td>one</td>\n",
       "    </tr>\n",
       "    <tr>\n",
       "      <th>2000-01-13</th>\n",
       "      <td>-0.321072</td>\n",
       "      <td>0.297049</td>\n",
       "      <td>-1.057597</td>\n",
       "      <td>0.052490</td>\n",
       "      <td>one</td>\n",
       "    </tr>\n",
       "    <tr>\n",
       "      <th>2000-01-14</th>\n",
       "      <td>0.254398</td>\n",
       "      <td>1.329939</td>\n",
       "      <td>2.097644</td>\n",
       "      <td>0.214907</td>\n",
       "      <td>two</td>\n",
       "    </tr>\n",
       "    <tr>\n",
       "      <th>2000-01-15</th>\n",
       "      <td>0.171678</td>\n",
       "      <td>1.645979</td>\n",
       "      <td>-0.787874</td>\n",
       "      <td>-0.288615</td>\n",
       "      <td>three</td>\n",
       "    </tr>\n",
       "    <tr>\n",
       "      <th>2000-01-16</th>\n",
       "      <td>-0.180851</td>\n",
       "      <td>1.050448</td>\n",
       "      <td>0.109604</td>\n",
       "      <td>1.272104</td>\n",
       "      <td>four</td>\n",
       "    </tr>\n",
       "    <tr>\n",
       "      <th>2000-01-17</th>\n",
       "      <td>0.834697</td>\n",
       "      <td>1.210338</td>\n",
       "      <td>1.104604</td>\n",
       "      <td>0.541889</td>\n",
       "      <td>three</td>\n",
       "    </tr>\n",
       "    <tr>\n",
       "      <th>2000-01-18</th>\n",
       "      <td>-0.140873</td>\n",
       "      <td>-0.556590</td>\n",
       "      <td>1.388499</td>\n",
       "      <td>1.587478</td>\n",
       "      <td>four</td>\n",
       "    </tr>\n",
       "    <tr>\n",
       "      <th>2000-01-19</th>\n",
       "      <td>0.145843</td>\n",
       "      <td>0.233198</td>\n",
       "      <td>-0.896226</td>\n",
       "      <td>0.326833</td>\n",
       "      <td>three</td>\n",
       "    </tr>\n",
       "  </tbody>\n",
       "</table>\n",
       "</div>"
      ],
      "text/plain": [
       "                   A         B         C         D      E\n",
       "2000-01-12  0.365761  1.385326  0.474791  0.246368    one\n",
       "2000-01-13 -0.321072  0.297049 -1.057597  0.052490    one\n",
       "2000-01-14  0.254398  1.329939  2.097644  0.214907    two\n",
       "2000-01-15  0.171678  1.645979 -0.787874 -0.288615  three\n",
       "2000-01-16 -0.180851  1.050448  0.109604  1.272104   four\n",
       "2000-01-17  0.834697  1.210338  1.104604  0.541889  three\n",
       "2000-01-18 -0.140873 -0.556590  1.388499  1.587478   four\n",
       "2000-01-19  0.145843  0.233198 -0.896226  0.326833  three"
      ]
     },
     "execution_count": 75,
     "metadata": {},
     "output_type": "execute_result"
    }
   ],
   "source": [
    "df2"
   ]
  },
  {
   "cell_type": "code",
   "execution_count": 76,
   "metadata": {},
   "outputs": [
    {
     "data": {
      "text/html": [
       "<div>\n",
       "<table border=\"1\" class=\"dataframe\">\n",
       "  <thead>\n",
       "    <tr style=\"text-align: right;\">\n",
       "      <th></th>\n",
       "      <th>A</th>\n",
       "      <th>B</th>\n",
       "      <th>C</th>\n",
       "      <th>D</th>\n",
       "      <th>E</th>\n",
       "    </tr>\n",
       "  </thead>\n",
       "  <tbody>\n",
       "    <tr>\n",
       "      <th>2000-01-14</th>\n",
       "      <td>0.254398</td>\n",
       "      <td>1.329939</td>\n",
       "      <td>2.097644</td>\n",
       "      <td>0.214907</td>\n",
       "      <td>two</td>\n",
       "    </tr>\n",
       "    <tr>\n",
       "      <th>2000-01-16</th>\n",
       "      <td>-0.180851</td>\n",
       "      <td>1.050448</td>\n",
       "      <td>0.109604</td>\n",
       "      <td>1.272104</td>\n",
       "      <td>four</td>\n",
       "    </tr>\n",
       "    <tr>\n",
       "      <th>2000-01-18</th>\n",
       "      <td>-0.140873</td>\n",
       "      <td>-0.556590</td>\n",
       "      <td>1.388499</td>\n",
       "      <td>1.587478</td>\n",
       "      <td>four</td>\n",
       "    </tr>\n",
       "  </tbody>\n",
       "</table>\n",
       "</div>"
      ],
      "text/plain": [
       "                   A         B         C         D     E\n",
       "2000-01-14  0.254398  1.329939  2.097644  0.214907   two\n",
       "2000-01-16 -0.180851  1.050448  0.109604  1.272104  four\n",
       "2000-01-18 -0.140873 -0.556590  1.388499  1.587478  four"
      ]
     },
     "execution_count": 76,
     "metadata": {},
     "output_type": "execute_result"
    }
   ],
   "source": [
    "df2[df2['E'].isin(['two', 'four'])]"
   ]
  },
  {
   "cell_type": "code",
   "execution_count": 83,
   "metadata": {},
   "outputs": [],
   "source": [
    "a = \"\", \"\"\n"
   ]
  },
  {
   "cell_type": "code",
   "execution_count": 84,
   "metadata": {},
   "outputs": [
    {
     "data": {
      "text/plain": [
       "('', '')"
      ]
     },
     "execution_count": 84,
     "metadata": {},
     "output_type": "execute_result"
    }
   ],
   "source": [
    "a"
   ]
  },
  {
   "cell_type": "code",
   "execution_count": null,
   "metadata": {
    "collapsed": true
   },
   "outputs": [],
   "source": []
  }
 ],
 "metadata": {
  "anaconda-cloud": {},
  "kernelspec": {
   "display_name": "Python 3",
   "language": "python",
   "name": "python3"
  },
  "language_info": {
   "codemirror_mode": {
    "name": "ipython",
    "version": 3
   },
   "file_extension": ".py",
   "mimetype": "text/x-python",
   "name": "python",
   "nbconvert_exporter": "python",
   "pygments_lexer": "ipython3",
   "version": "3.8.3"
  }
 },
 "nbformat": 4,
 "nbformat_minor": 1
}
