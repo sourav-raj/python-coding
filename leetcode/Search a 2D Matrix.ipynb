{
 "cells": [
  {
   "cell_type": "markdown",
   "metadata": {},
   "source": [
    "### Search a 2D Matrix\n",
    "\n",
    "Write an efficient algorithm that searches for a value target in an m x n integer matrix matrix. This matrix has the following properties:\n",
    "\n",
    "Integers in each row are sorted from left to right.\n",
    "The first integer of each row is greater than the last integer of the previous row.\n",
    "\n",
    "Input: matrix = [[1,3,5,7],[10,11,16,20],[23,30,34,60]], target = 3\n",
    "Output: true\n",
    "\n",
    "Input: matrix = [[1,3,5,7],[10,11,16,20],[23,30,34,60]], target = 13\n",
    "Output: false"
   ]
  },
  {
   "cell_type": "code",
   "execution_count": 72,
   "metadata": {},
   "outputs": [],
   "source": [
    "\n",
    "def searchMatrix(matrix: list, target: int) -> bool:\n",
    "    if len(matrix)==1:\n",
    "        for val in matrix[0]:\n",
    "            print(val)\n",
    "            if target==val: return True\n",
    "        return False\n",
    "    else:\n",
    "        for i in range(1, len(matrix)):\n",
    "            if target==matrix[i][0]:\n",
    "                return True\n",
    "            elif target<matrix[i][0]:\n",
    "                for val in matrix[i-1]:\n",
    "                    if target==val: return True\n",
    "        for val in matrix[-1]:\n",
    "            print(val)\n",
    "            if target==val: return True\n",
    "        else: return False          "
   ]
  },
  {
   "cell_type": "code",
   "execution_count": 76,
   "metadata": {},
   "outputs": [
    {
     "data": {
      "text/plain": [
       "True"
      ]
     },
     "execution_count": 76,
     "metadata": {},
     "output_type": "execute_result"
    }
   ],
   "source": [
    "matrix=[[1,3,5,7],[10,11,16,20],[23,30,34,60]]\n",
    "matrix=[[1,3,5,7],[10,11,16,20],[23,30,34,60]]\n",
    "# matrix=[[1,2,3]]\n",
    "matrix=[[1], [3]]\n",
    "matrix=[[1,3,5,7],[10,11,16,20],[23,30,34,50]]\n",
    "target=30\n",
    "searchMatrix(matrix, target)"
   ]
  },
  {
   "cell_type": "code",
   "execution_count": 77,
   "metadata": {},
   "outputs": [],
   "source": [
    "#binary search \n",
    "def searchMatrix(matrix: list, target: int) -> bool:\n",
    "    M, N = len(matrix), len(matrix[0])\n",
    "        \n",
    "    rstart, rend = 0, M - 1\n",
    "    while rstart < rend:\n",
    "        rmid = (rstart + rend) // 2\n",
    "        if matrix[rmid][-1] == target:\n",
    "            return True\n",
    "        elif target < matrix[rmid][-1]:\n",
    "            rend = rmid\n",
    "        else:\n",
    "            rstart = rmid + 1\n",
    "\n",
    "    desired_row = rstart\n",
    "\n",
    "    cstart, cend = 0, N - 1\n",
    "\n",
    "    while cstart < cend:\n",
    "        cmid = (cstart + cend) // 2\n",
    "        if matrix[desired_row][cmid] == target:\n",
    "            return True\n",
    "        elif target < matrix[desired_row][cmid]:\n",
    "            cend = cmid - 1\n",
    "        else:\n",
    "            cstart = cmid + 1\n",
    "\n",
    "    desired_col = cstart\n",
    "\n",
    "    return matrix[desired_row][desired_col] == target"
   ]
  },
  {
   "cell_type": "code",
   "execution_count": 78,
   "metadata": {},
   "outputs": [
    {
     "data": {
      "text/plain": [
       "True"
      ]
     },
     "execution_count": 78,
     "metadata": {},
     "output_type": "execute_result"
    }
   ],
   "source": [
    "matrix=[[1,3,5,7],[10,11,16,20],[23,30,34,60]]\n",
    "matrix=[[1,3,5,7],[10,11,16,20],[23,30,34,60]]\n",
    "# matrix=[[1,2,3]]\n",
    "matrix=[[1], [3]]\n",
    "matrix=[[1,3,5,7],[10,11,16,20],[23,30,34,50]]\n",
    "target=30\n",
    "searchMatrix(matrix, target)"
   ]
  },
  {
   "cell_type": "code",
   "execution_count": null,
   "metadata": {},
   "outputs": [],
   "source": []
  }
 ],
 "metadata": {
  "kernelspec": {
   "display_name": "Python 3",
   "language": "python",
   "name": "python3"
  },
  "language_info": {
   "codemirror_mode": {
    "name": "ipython",
    "version": 3
   },
   "file_extension": ".py",
   "mimetype": "text/x-python",
   "name": "python",
   "nbconvert_exporter": "python",
   "pygments_lexer": "ipython3",
   "version": "3.8.3"
  }
 },
 "nbformat": 4,
 "nbformat_minor": 4
}
