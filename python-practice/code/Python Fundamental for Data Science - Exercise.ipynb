{
 "cells": [
  {
   "cell_type": "markdown",
   "metadata": {},
   "source": [
    "# <b> <center style=\"background-color:DodgerBlue;\"> Exercise </center> </b>"
   ]
  },
  {
   "cell_type": "code",
   "execution_count": 140,
   "metadata": {},
   "outputs": [],
   "source": [
    "\n",
    "#-*- coding: utf-8 -*-\n",
    "\n",
    "# Indentation: Jupyter Notebook"
   ]
  },
  {
   "cell_type": "markdown",
   "metadata": {},
   "source": [
    "__version__='1.0.0'\n",
    "__author__=\"Sourav Raj\"\n",
    "__email__=\"souravraj.iitbbs@gmail.com\"\n"
   ]
  },
  {
   "cell_type": "markdown",
   "metadata": {},
   "source": [
    "<b> Problem 1 </b>"
   ]
  },
  {
   "cell_type": "markdown",
   "metadata": {},
   "source": [
    "Given a number, find the sum of its digits. Take the number as\n",
    "an input from the user."
   ]
  },
  {
   "cell_type": "code",
   "execution_count": 19,
   "metadata": {},
   "outputs": [],
   "source": [
    "def sum_of_digits(num: str or int):\n",
    "    \n",
    "    '''\n",
    "        calculate sum of digits of given number\n",
    "\n",
    "        parameter:\n",
    "        ---------\n",
    "        num: number which sum needs to find out\n",
    "\n",
    "        Return:\n",
    "        --------\n",
    "        int\n",
    "\n",
    "    \n",
    "    '''\n",
    "    # Method 1\n",
    "    if type(num)==str:\n",
    "        return sum([int(char) for char in num])\n",
    "    \n",
    "    #Method 2\n",
    "    else: #type(num)==float/int\n",
    "        sm=0\n",
    "        while num!=0:\n",
    "            sm=sm+num%10\n",
    "            num=num//10\n",
    "        return sm"
   ]
  },
  {
   "cell_type": "markdown",
   "metadata": {},
   "source": [
    "<b> Problem 2 </b>"
   ]
  },
  {
   "cell_type": "raw",
   "metadata": {},
   "source": [
    "Given a number, check whether the given number is an Armstrong number or not. A positive integer is called an\n",
    "Armstrong number of order n \n",
    "if:  abcd... = an + bn + cn + dn + ...\n",
    "\n",
    "Example: 153 = 1*1*1 + 5*5*5 + 3*3*3\n",
    "\n",
    "153 is an Armstrong number of order 3.\n",
    "Inputs from the user will be number and order n."
   ]
  },
  {
   "cell_type": "code",
   "execution_count": 33,
   "metadata": {},
   "outputs": [],
   "source": [
    "def isArmstrongNumber(num, order):\n",
    "    '''\n",
    "    check whether the given number is an Armstrong number or not. A positive integer is called an\n",
    "    Armstrong number of order n \n",
    "    if:  abcd... = an + bn + cn + dn + ...\n",
    "\n",
    "    Example: 153 = 1*1*1 + 5*5*5 + 3*3*3\n",
    "\n",
    "    153 is an Armstrong number of order 3. \n",
    "    \n",
    "    Parameters:\n",
    "    -----------\n",
    "    num: int\n",
    "    \n",
    "    order: int\n",
    "    \n",
    "    Return:\n",
    "    -------\n",
    "    bool: return True if it is Armstrong number otherwise false\n",
    "    \n",
    "    '''\n",
    "    sm=0\n",
    "    orig_num=num\n",
    "    while num!=0:\n",
    "        sm=sm+(num%10)**order\n",
    "        num=num//10\n",
    "        print(sm, num)\n",
    "        \n",
    "    if sm==orig_num:\n",
    "        return True\n",
    "    else:\n",
    "        return False\n",
    "    "
   ]
  },
  {
   "cell_type": "code",
   "execution_count": 32,
   "metadata": {},
   "outputs": [
    {
     "name": "stdout",
     "output_type": "stream",
     "text": [
      "27 15\n",
      "152 1\n",
      "153 0\n"
     ]
    },
    {
     "data": {
      "text/plain": [
       "True"
      ]
     },
     "execution_count": 32,
     "metadata": {},
     "output_type": "execute_result"
    }
   ],
   "source": [
    "isArmstrongNumber(153, 3)"
   ]
  },
  {
   "cell_type": "markdown",
   "metadata": {},
   "source": [
    "<b> Problem 3. </b>"
   ]
  },
  {
   "cell_type": "markdown",
   "metadata": {},
   "source": [
    "Given a string, write a python function to check if it is palindrome or not.  \n",
    "\n",
    "A string is said to be palindrome if the reverse of the string is the same as string. \n",
    "\n",
    "For example, “malayalam” is a palindrome, but “music” is not a palindrome"
   ]
  },
  {
   "cell_type": "markdown",
   "metadata": {},
   "source": [
    "Method - 1"
   ]
  },
  {
   "cell_type": "code",
   "execution_count": 52,
   "metadata": {},
   "outputs": [
    {
     "name": "stdout",
     "output_type": "stream",
     "text": [
      "True\n",
      "False\n"
     ]
    }
   ],
   "source": [
    "def isPalindrome(param:str):\n",
    "    '''\n",
    "    to check if it is palindrome or not.  \n",
    "\n",
    "    A string is said to be palindrome if the reverse of the string is the same as string. \n",
    "    \n",
    "    Parameter:\n",
    "    ---------\n",
    "    param:str\n",
    "          input string\n",
    "    \n",
    "    Return:\n",
    "    -------\n",
    "    bool: return True if palindrome otherwise false\n",
    "\n",
    "    '''\n",
    "    original_param=[char for char in param]\n",
    "    reverse_param=[char for char in param]\n",
    "    reverse_param.reverse()\n",
    "    return original_param==reverse_param\n",
    "\n",
    "print(isPalindrome(\"malayalam\"))\n",
    "print(isPalindrome(\"asds\"))"
   ]
  },
  {
   "cell_type": "markdown",
   "metadata": {},
   "source": [
    "Method - 2"
   ]
  },
  {
   "cell_type": "code",
   "execution_count": 55,
   "metadata": {},
   "outputs": [
    {
     "name": "stdout",
     "output_type": "stream",
     "text": [
      "True\n",
      "False\n"
     ]
    }
   ],
   "source": [
    "def isPalindrome(param:str):\n",
    "    '''\n",
    "    to check if it is palindrome or not.  \n",
    "\n",
    "    A string is said to be palindrome if the reverse of the string is the same as string. \n",
    "    \n",
    "    Parameter:\n",
    "    ---------\n",
    "    param:str\n",
    "          input string\n",
    "    \n",
    "    Return:\n",
    "    -------\n",
    "    bool: return True if palindrome otherwise false\n",
    "\n",
    "    '''\n",
    "    for i in range(len(param)):\n",
    "        if param[i]!=param[len(param)-i-1]:\n",
    "            return False\n",
    "    return True\n",
    "print(isPalindrome(\"malayalam\"))\n",
    "print(isPalindrome(\"asds\"))"
   ]
  },
  {
   "cell_type": "markdown",
   "metadata": {},
   "source": [
    "<b> Problem 4. </b>"
   ]
  },
  {
   "cell_type": "markdown",
   "metadata": {},
   "source": [
    "Given an array which may contain duplicates, print all elements and their frequencies."
   ]
  },
  {
   "cell_type": "markdown",
   "metadata": {},
   "source": [
    "Method 1: use set & list"
   ]
  },
  {
   "cell_type": "code",
   "execution_count": 60,
   "metadata": {},
   "outputs": [],
   "source": [
    "def findUniqueAndFrequencyOfList(param:list):\n",
    "    '''\n",
    "    Given an array which may contain duplicates, print all elements and their frequencies.\n",
    "    \n",
    "    Parameter:\n",
    "    ---------\n",
    "    param:str\n",
    "          input array\n",
    "    \n",
    "    Return:\n",
    "    -------\n",
    "    None: print elements & frequency\n",
    "    \n",
    "    '''\n",
    "    \n",
    "    unique_elements=set(param)\n",
    "    for element in unique_elements:\n",
    "        print(f\"eliment is {element} and count is {len([val for val in param if val==element])}\")"
   ]
  },
  {
   "cell_type": "code",
   "execution_count": 61,
   "metadata": {},
   "outputs": [
    {
     "name": "stdout",
     "output_type": "stream",
     "text": [
      "eliment is 1 and count is 1\n",
      "eliment is 2 and count is 2\n",
      "eliment is 4 and count is 1\n",
      "eliment is 5 and count is 2\n",
      "eliment is 6 and count is 1\n"
     ]
    }
   ],
   "source": [
    "findUniqueAndFrequencyOfList([1,2,2,4,5,6,5])"
   ]
  },
  {
   "cell_type": "markdown",
   "metadata": {},
   "source": [
    "Method 2: use list & dictionary"
   ]
  },
  {
   "cell_type": "code",
   "execution_count": 62,
   "metadata": {},
   "outputs": [],
   "source": [
    "def findUniqueAndFrequencyOfList(param:list):\n",
    "    '''\n",
    "    Given an array which may contain duplicates, print all elements and their frequencies.\n",
    "    \n",
    "    Parameter:\n",
    "    ---------\n",
    "    param:str\n",
    "          input array\n",
    "    \n",
    "    Return:\n",
    "    -------\n",
    "    None: print elements & frequency\n",
    "    \n",
    "    '''\n",
    "    \n",
    "    unique_elements=[]\n",
    "    elements_count={}\n",
    "    for element in param:\n",
    "        if element not in unique_elements:\n",
    "            elements_count[element]=len([val for val in param if val==element])\n",
    "            unique_elements.append(element)\n",
    "    for element, count in elements_count.items():\n",
    "        print(f\"eliment is {element} and count is {count}\")"
   ]
  },
  {
   "cell_type": "code",
   "execution_count": 63,
   "metadata": {},
   "outputs": [
    {
     "name": "stdout",
     "output_type": "stream",
     "text": [
      "eliment is 1 and count is 1\n",
      "eliment is 2 and count is 2\n",
      "eliment is 4 and count is 1\n",
      "eliment is 5 and count is 2\n",
      "eliment is 6 and count is 1\n"
     ]
    }
   ],
   "source": [
    "findUniqueAndFrequencyOfList([1,2,2,4,5,6,5])"
   ]
  },
  {
   "cell_type": "markdown",
   "metadata": {},
   "source": [
    "<b> Problem 5 </b>"
   ]
  },
  {
   "cell_type": "markdown",
   "metadata": {},
   "source": [
    "Given a number n, write a function to print all prime factors of n.\n",
    "\n",
    "For example, if the input number is 12, then output should be “2 2 3”.\n"
   ]
  },
  {
   "cell_type": "code",
   "execution_count": 89,
   "metadata": {},
   "outputs": [],
   "source": [
    "def findPrimeFactor(num:int):\n",
    "    '''\n",
    "    Given a number n, write a function to print all prime factors of n..\n",
    "    \n",
    "    Parameter:\n",
    "    ---------\n",
    "    num:int\n",
    "          input number\n",
    "    \n",
    "    Return:\n",
    "    -------\n",
    "    None: print all prime factors\n",
    "    \n",
    "    '''\n",
    "    primeFactors=[]\n",
    "    while num%2==0:\n",
    "        primeFactors.append(2)\n",
    "        num=num/2\n",
    "    for i in range(3, int(num)+1, 2):\n",
    "        while num%i==0:\n",
    "            primeFactors.append(i)\n",
    "            num=num/i\n",
    "    for factor in primeFactors:\n",
    "        print(factor, end=' ')"
   ]
  },
  {
   "cell_type": "code",
   "execution_count": 90,
   "metadata": {},
   "outputs": [
    {
     "name": "stdout",
     "output_type": "stream",
     "text": [
      "2 2 3 "
     ]
    }
   ],
   "source": [
    "findPrimeFactor(12)"
   ]
  },
  {
   "cell_type": "markdown",
   "metadata": {},
   "source": [
    "<b> Problem 6. </b>"
   ]
  },
  {
   "cell_type": "markdown",
   "metadata": {},
   "source": [
    "Given two numbers n and r, find the value of nCr (binomial coefficient: nCr = (n!) / (r! * (n-r)!))\n"
   ]
  },
  {
   "cell_type": "code",
   "execution_count": 101,
   "metadata": {},
   "outputs": [],
   "source": [
    "def factorial(num):\n",
    "    '''\n",
    "    find factorial of given number\n",
    "    \n",
    "    Parameter:\n",
    "    ---------\n",
    "    num:int\n",
    "         input number\n",
    "    \n",
    "    Return:\n",
    "    -------\n",
    "    int: factorial \n",
    "    \n",
    "    '''\n",
    "    fact=1\n",
    "    if num==0: return fact\n",
    "    while num>0:\n",
    "        fact*=num\n",
    "        num-=1\n",
    "    \n",
    "    return fact\n",
    "def binomialCoefficient(n:int, r:int):\n",
    "    '''\n",
    "    Given two numbers n and r, find the value of nCr (binomial coefficient: nCr = (n!) / (r! * (n-r)!))\n",
    "    \n",
    "    Parameter:\n",
    "    ---------\n",
    "    n:int\n",
    "        first input number\n",
    "    r:int\n",
    "        second input number\n",
    "    Return:\n",
    "    -------\n",
    "    int: binomial coefficient\n",
    "    \n",
    "    '''\n",
    "    return (factorial(n)/(factorial(r)*factorial(n-r)))"
   ]
  },
  {
   "cell_type": "code",
   "execution_count": 102,
   "metadata": {},
   "outputs": [
    {
     "data": {
      "text/plain": [
       "120.0"
      ]
     },
     "execution_count": 102,
     "metadata": {},
     "output_type": "execute_result"
    }
   ],
   "source": [
    "binomialCoefficient(10,7)"
   ]
  },
  {
   "cell_type": "markdown",
   "metadata": {},
   "source": [
    "<b> Problem 7. </b>"
   ]
  },
  {
   "cell_type": "markdown",
   "metadata": {},
   "source": [
    "Searching: Given a sorted array arr[] of n elements, write a function to search a given element x in arr[]. \n",
    "Do it using linear and binary search techniques."
   ]
  },
  {
   "cell_type": "markdown",
   "metadata": {},
   "source": [
    "Method 1: Linear Search"
   ]
  },
  {
   "cell_type": "code",
   "execution_count": 105,
   "metadata": {},
   "outputs": [
    {
     "data": {
      "text/plain": [
       "1"
      ]
     },
     "execution_count": 105,
     "metadata": {},
     "output_type": "execute_result"
    }
   ],
   "source": [
    "[1,2,3].index(2)"
   ]
  },
  {
   "cell_type": "code",
   "execution_count": 107,
   "metadata": {},
   "outputs": [
    {
     "data": {
      "text/plain": [
       "2"
      ]
     },
     "execution_count": 107,
     "metadata": {},
     "output_type": "execute_result"
    }
   ],
   "source": [
    "def ListSearch(list_, element):\n",
    "    \n",
    "    '''\n",
    "    function to search a given element x in a sorted arr[].\n",
    "    \n",
    "    Parameter:\n",
    "    ---------\n",
    "    list_:list\n",
    "        given sorted array\n",
    "    element:\n",
    "        which need to be search in given array\n",
    "    Return:\n",
    "    -------\n",
    "    bool: True if found else false\n",
    "    \n",
    "    '''\n",
    "    for val in list_:\n",
    "        if val==element:\n",
    "            return list_.index(element)\n",
    "    return -1\n",
    "ListSearch([1,2,3,4], 3)"
   ]
  },
  {
   "cell_type": "markdown",
   "metadata": {},
   "source": [
    "Method 2: Binary search"
   ]
  },
  {
   "cell_type": "code",
   "execution_count": 114,
   "metadata": {},
   "outputs": [
    {
     "data": {
      "text/plain": [
       "3"
      ]
     },
     "execution_count": 114,
     "metadata": {},
     "output_type": "execute_result"
    }
   ],
   "source": [
    "def binaryListSearch(list_, lower_index, higher_index, element):\n",
    "    if higher_index>=lower_index:\n",
    "        mid_index=(lower_index+higher_index)//2\n",
    "        if list_[mid_index]==element:\n",
    "            return (mid_index+mid_index)//2\n",
    "        \n",
    "        elif list_[mid_index]<element:\n",
    "            \n",
    "            return binaryListSearch(list_, mid_index+1, higher_index, element)\n",
    "        else:\n",
    "            return binaryListSearch(list_, lower_index, mid_index-1, element)\n",
    "        \n",
    "    else:\n",
    "        return -1\n",
    "    \n",
    "def listSearch(list_, element):\n",
    "    \n",
    "    '''\n",
    "    function to search a given element x in a sorted arr[].\n",
    "    \n",
    "    Parameter:\n",
    "    ---------\n",
    "    list_:list\n",
    "        given sorted array\n",
    "    element:\n",
    "        which need to be search in given array\n",
    "    Return:\n",
    "    -------\n",
    "    bool: True if found else false\n",
    "    \n",
    "    '''\n",
    "    return binaryListSearch(list_, 0, len(list_)-1, element)\n",
    "\n",
    "listSearch([1,2,3,4], 4)"
   ]
  },
  {
   "cell_type": "markdown",
   "metadata": {},
   "source": [
    "<b> Problem 8. </b>"
   ]
  },
  {
   "cell_type": "markdown",
   "metadata": {},
   "source": [
    "Input a text file (containing 1 or more paragraphs of English text) from the user, parse this file to display the frequency of\n",
    "occurrence of each word in this text file. Find the 3 most frequent words as well."
   ]
  },
  {
   "cell_type": "code",
   "execution_count": 136,
   "metadata": {},
   "outputs": [
    {
     "name": "stdout",
     "output_type": "stream",
     "text": [
      "PPP 1\n",
      "7 1\n",
      "Pravin 1\n",
      "18 2\n",
      "PYP 1\n",
      "25 1\n",
      "30 1\n",
      "10 1\n",
      "40 1\n",
      "11 1\n",
      "9 1\n",
      "Pawar 1\n",
      "15 1\n",
      "20 1\n",
      "35 1\n",
      "Top 3 words counts are\n",
      "18 2\n",
      "PPP 1\n",
      "7 1\n"
     ]
    }
   ],
   "source": [
    "# file=open(input('Enter file name'))\n",
    "file=open('./L3/marks.txt')\n",
    "content=file.read()\n",
    "lines=content.replace('\\n', '').split(' ')\n",
    "unique_words=set(lines)\n",
    "word_count={}\n",
    "for word in unique_words:\n",
    "    if word!='':\n",
    "        word_count[word]=len([w for w in lines if w ==word])\n",
    "for key, val in word_count.items():\n",
    "    print(key, val)\n",
    "\n",
    "word_count_sorted={key: val for key, val in sorted(word_count.items(), key=lambda item: item[1], reverse=True)}\n",
    "i=0\n",
    "print('Top 3 words counts are')\n",
    "for key , val in word_count_sorted.items():\n",
    "    if i==3:\n",
    "        break\n",
    "    print (key, val)\n",
    "    i+=1"
   ]
  }
 ],
 "metadata": {
  "kernelspec": {
   "display_name": "Python 3",
   "language": "python",
   "name": "python3"
  },
  "language_info": {
   "codemirror_mode": {
    "name": "ipython",
    "version": 3
   },
   "file_extension": ".py",
   "mimetype": "text/x-python",
   "name": "python",
   "nbconvert_exporter": "python",
   "pygments_lexer": "ipython3",
   "version": "3.8.3"
  }
 },
 "nbformat": 4,
 "nbformat_minor": 4
}
