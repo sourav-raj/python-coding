{
 "cells": [
  {
   "cell_type": "code",
   "execution_count": 1,
   "metadata": {},
   "outputs": [],
   "source": [
    "# -*- coding: utf-8 -*-\n",
    "# Indentation: Jupyter Notebook\n",
    "\n",
    "'''\n",
    "Statistics module\n",
    "'''\n",
    "\n",
    "__version__ = 1.0\n",
    "__author__ = \"Sourav Raj\"\n",
    "__author_email__ = \"souravraj.iitbbs@gmail.com\"\n"
   ]
  },
  {
   "cell_type": "code",
   "execution_count": 6,
   "metadata": {},
   "outputs": [
    {
     "data": {
      "text/plain": [
       "[[1, 10, 5, 5], [5, 10, 5, 1], [8, 10, 5, 4]]"
      ]
     },
     "execution_count": 6,
     "metadata": {},
     "output_type": "execute_result"
    }
   ],
   "source": [
    "import math\n",
    "N=3\n",
    "C = 100\n",
    "# a =[1, 10, 5, 20]\n",
    "# b =[5, 10, 5, 20]\n",
    "# c =[8, 10, 5, 20]\n",
    "\n",
    "a=[1, 10, 5, 5] \n",
    "b=[5, 10, 5, 1]\n",
    "c=[8, 10, 5, 4]\n",
    "tree_list = []\n",
    "tree_list.append(a)\n",
    "tree_list.append(b)\n",
    "tree_list.append(c)\n",
    "tree_list"
   ]
  },
  {
   "cell_type": "code",
   "execution_count": 2,
   "metadata": {
    "scrolled": true
   },
   "outputs": [
    {
     "name": "stdout",
     "output_type": "stream",
     "text": [
      "67\n"
     ]
    },
    {
     "ename": "IndexError",
     "evalue": "list index out of range",
     "output_type": "error",
     "traceback": [
      "\u001b[1;31m---------------------------------------------------------------------------\u001b[0m",
      "\u001b[1;31mIndexError\u001b[0m                                Traceback (most recent call last)",
      "\u001b[1;32m<ipython-input-2-a6d95d11952c>\u001b[0m in \u001b[0;36m<module>\u001b[1;34m()\u001b[0m\n\u001b[0;32m      1\u001b[0m \u001b[0mN_C\u001b[0m \u001b[1;33m=\u001b[0m \u001b[1;33m[\u001b[0m\u001b[0mint\u001b[0m\u001b[1;33m(\u001b[0m\u001b[0mx\u001b[0m\u001b[1;33m)\u001b[0m \u001b[1;32mfor\u001b[0m \u001b[0mx\u001b[0m \u001b[1;32min\u001b[0m \u001b[0minput\u001b[0m\u001b[1;33m(\u001b[0m\u001b[1;33m)\u001b[0m\u001b[1;33m.\u001b[0m\u001b[0msplit\u001b[0m\u001b[1;33m(\u001b[0m\u001b[1;33m)\u001b[0m\u001b[1;33m]\u001b[0m\u001b[1;33m\u001b[0m\u001b[0m\n\u001b[0;32m      2\u001b[0m \u001b[0mN\u001b[0m \u001b[1;33m=\u001b[0m \u001b[0mN_C\u001b[0m\u001b[1;33m[\u001b[0m\u001b[1;36m0\u001b[0m\u001b[1;33m]\u001b[0m\u001b[1;33m\u001b[0m\u001b[0m\n\u001b[1;32m----> 3\u001b[1;33m \u001b[0mC\u001b[0m \u001b[1;33m=\u001b[0m \u001b[0mN_C\u001b[0m\u001b[1;33m[\u001b[0m\u001b[1;36m1\u001b[0m\u001b[1;33m]\u001b[0m\u001b[1;33m\u001b[0m\u001b[0m\n\u001b[0m\u001b[0;32m      4\u001b[0m \u001b[0mtree_list\u001b[0m\u001b[1;33m=\u001b[0m\u001b[1;33m[\u001b[0m\u001b[1;33m]\u001b[0m\u001b[1;33m\u001b[0m\u001b[0m\n\u001b[0;32m      5\u001b[0m \u001b[1;32mfor\u001b[0m \u001b[0mi\u001b[0m \u001b[1;32min\u001b[0m \u001b[0mrange\u001b[0m\u001b[1;33m(\u001b[0m\u001b[0mN\u001b[0m\u001b[1;33m)\u001b[0m\u001b[1;33m:\u001b[0m\u001b[1;33m\u001b[0m\u001b[0m\n",
      "\u001b[1;31mIndexError\u001b[0m: list index out of range"
     ]
    }
   ],
   "source": [
    "N_C = [int(x) for x in input().split()]\n",
    "N = N_C[0]\n",
    "C = N_C[1]\n",
    "tree_list=[]\n",
    "for i in range(N):\n",
    "    tree_list.append([int(x) for x in input().split()])\n",
    "tree_list"
   ]
  },
  {
   "cell_type": "code",
   "execution_count": 37,
   "metadata": {},
   "outputs": [
    {
     "data": {
      "text/plain": [
       "3"
      ]
     },
     "execution_count": 37,
     "metadata": {},
     "output_type": "execute_result"
    }
   ],
   "source": [
    "N"
   ]
  },
  {
   "cell_type": "code",
   "execution_count": 42,
   "metadata": {},
   "outputs": [
    {
     "data": {
      "text/plain": [
       "{0: [0, 1, 2], 1: [0, 1, 2], 2: [0, 1, 2]}"
      ]
     },
     "execution_count": 42,
     "metadata": {},
     "output_type": "execute_result"
    }
   ],
   "source": [
    "dict_tree"
   ]
  },
  {
   "cell_type": "code",
   "execution_count": 50,
   "metadata": {},
   "outputs": [
    {
     "data": {
      "text/plain": [
       "True"
      ]
     },
     "execution_count": 50,
     "metadata": {},
     "output_type": "execute_result"
    }
   ],
   "source": [
    "0 in dict_tree"
   ]
  },
  {
   "cell_type": "code",
   "execution_count": 56,
   "metadata": {},
   "outputs": [],
   "source": [
    "if not(2 in dict_tree):\n",
    "    print(dict_tree)"
   ]
  },
  {
   "cell_type": "code",
   "execution_count": 57,
   "metadata": {},
   "outputs": [],
   "source": [
    "def pathFinder(house_connectStruct, startHouse, endHouse, path=[]):\n",
    "    path = path + [startHouse]\n",
    "    if startHouse == endHouse:\n",
    "        return([path])\n",
    "    if not(startHouse in house_connectStruct):\n",
    "        return([])\n",
    "    paths = []\n",
    "    for houseNode in house_connectStruct[startHouse]:\n",
    "        if houseNode not in path:\n",
    "            requiredPath = pathFinder(house_connectStruct, houseNode, endHouse, path)\n",
    "            for x in requiredPath:\n",
    "                paths.append(x)\n",
    "                \n",
    "    #paths[] Contains More than One Path is Present - now We Clear Path and Return the Shortest Path!\n",
    "    return(paths)"
   ]
  },
  {
   "cell_type": "code",
   "execution_count": 77,
   "metadata": {},
   "outputs": [],
   "source": [
    "N= 4\n",
    "C = 7.5"
   ]
  },
  {
   "cell_type": "code",
   "execution_count": 78,
   "metadata": {},
   "outputs": [],
   "source": [
    "a1=[-5, 0, 8, 8]\n",
    "b1=[0, 5, 4, 8]\n",
    "c1=[0, -5, 4, 8]\n",
    "d1=[5, 0, 10, 10]"
   ]
  },
  {
   "cell_type": "code",
   "execution_count": 81,
   "metadata": {},
   "outputs": [],
   "source": [
    "tree_list=[]\n",
    "tree_list.append(a1)\n",
    "tree_list.append(b1)\n",
    "tree_list.append(c1)\n",
    "tree_list.append(d1)"
   ]
  },
  {
   "cell_type": "code",
   "execution_count": 82,
   "metadata": {},
   "outputs": [
    {
     "data": {
      "text/plain": [
       "[[-5, 0, 8, 8], [0, 5, 4, 8], [0, -5, 4, 8], [5, 0, 10, 10]]"
      ]
     },
     "execution_count": 82,
     "metadata": {},
     "output_type": "execute_result"
    }
   ],
   "source": [
    "tree_list"
   ]
  },
  {
   "cell_type": "code",
   "execution_count": 29,
   "metadata": {},
   "outputs": [],
   "source": [
    "def dict_tree_def(tree_list, N, C):\n",
    "    dict_tree ={}\n",
    "    for i in range(N):\n",
    "        within_dist =[]\n",
    "        for j in range(N):\n",
    "            if math.sqrt(pow(tree_list[i][0]-tree_list[j][0], 2) + pow(tree_list[i][1]-tree_list[j][1], 2)) <= C:\n",
    "                within_dist.append(j)\n",
    "        dict_tree[i]=within_dist\n",
    "    return dict_tree"
   ]
  },
  {
   "cell_type": "code",
   "execution_count": 87,
   "metadata": {},
   "outputs": [
    {
     "data": {
      "text/plain": [
       "{0: [0, 1, 2], 1: [0, 1, 3], 2: [0, 2, 3], 3: [1, 2, 3]}"
      ]
     },
     "execution_count": 87,
     "metadata": {},
     "output_type": "execute_result"
    }
   ],
   "source": [
    "dict_tree= dict_tree_def(tree_list, N, C)\n",
    "dict_tree"
   ]
  },
  {
   "cell_type": "code",
   "execution_count": null,
   "metadata": {},
   "outputs": [],
   "source": [
    "for i in range(len(valid_paths)):\n",
    "    row_thresold = []\n",
    "    if len(valid_paths[i])==3:\n",
    "        row_thresold.append(tree_list[i][3])\n",
    "    elseif len(valid_paths[i])>3:\n",
    "        x = valid_paths[i][1]\n",
    "        valid_path_flag = False\n",
    "        for tree in valid_paths[i][2:-1]:\n",
    "            x = x + tree\n",
    "            if x >= tree_list[tree][3]:\n",
    "                valid_path_flag = True\n",
    "        row_ind_tree_extra_thresold=[]\n",
    "        if valid_path_flag = True:\n",
    "            for tree in valid_paths[i][1:-1]:\n",
    "                row_ind_tree_extra_thresold.append(tree_list[tree][3]-tree_list[tree][2])\n",
    "        row_thresold.append(min(row_ind_tree_extra_thresold))\n",
    "if tree_list[valid_paths[0][0]][2]<=sum(row_thresold):\n",
    "    return True\n",
    "else:\n",
    "    return False"
   ]
  },
  {
   "cell_type": "code",
   "execution_count": 72,
   "metadata": {},
   "outputs": [],
   "source": [
    "def valid_paths_thresold_check(tree_list, valid_paths):\n",
    "    row_thresold = []\n",
    "    for i in range(len(valid_paths)):\n",
    "        if len(valid_paths[i])==3:\n",
    "            row_thresold.append(tree_list[i][3])\n",
    "        elif len(valid_paths[i])>3:\n",
    "            x = valid_paths[i][1]\n",
    "            valid_path_flag = False\n",
    "            for tree in valid_paths[i][2:-1]:\n",
    "                x = x + tree\n",
    "                if x >= tree_list[tree][3]:\n",
    "                    valid_path_flag = True\n",
    "            row_ind_tree_extra_thresold=[]\n",
    "            if valid_path_flag == True:\n",
    "                for tree in valid_paths[i][1:-1]:\n",
    "                    row_ind_tree_extra_thresold.append(tree_list[tree][3]-tree_list[tree][2])\n",
    "            if len(row_ind_tree_extra_thresold) >=1:\n",
    "                row_thresold.append(min(row_ind_tree_extra_thresold))\n",
    "        \n",
    "    if tree_list[valid_paths[0][0]][2]<=sum(row_thresold):\n",
    "        return True\n",
    "    else:\n",
    "        return False"
   ]
  },
  {
   "cell_type": "code",
   "execution_count": 90,
   "metadata": {},
   "outputs": [
    {
     "name": "stdout",
     "output_type": "stream",
     "text": [
      "0 1 dist\n",
      "0 2 dist\n",
      "0 3 else\n",
      "1 0 dist\n",
      "1 2 else\n",
      "1 3 dist\n",
      "2 0 dist\n",
      "2 1 else\n",
      "2 3 dist\n",
      "3 0 else\n",
      "3 1 dist\n",
      "3 2 dist\n"
     ]
    }
   ],
   "source": [
    "final_tree=[]\n",
    "for i in range(N):\n",
    "    move_flag = False\n",
    "    tree_list_cp = tree_list.copy()\n",
    "    for j in range(N):\n",
    "        if j!=i:\n",
    "            dist = math.sqrt(pow(tree_list_cp[i][0]-tree_list_cp[j][0], 2) + pow(tree_list_cp[i][1]-tree_list_cp[j][1], 2))\n",
    "            if tree_list_cp[j][2] > tree_list_cp[j][3]:\n",
    "                #move_flag=False\n",
    "                #print(i,j, 'thresold')\n",
    "                return([])\n",
    "            else: #dist >C\n",
    "                #print(i,j, 'else')\n",
    "                valid_paths = pathFinder(dict_tree, j, i)\n",
    "                move_flag = valid_paths_thresold_check(tree_list_cp, valid_paths)\n",
    "                if not move_flag:\n",
    "                    return([])\n",
    "    if move_flag == True:\n",
    "        final_tree.append(i)\n",
    "\n"
   ]
  },
  {
   "cell_type": "code",
   "execution_count": 89,
   "metadata": {},
   "outputs": [
    {
     "data": {
      "text/plain": [
       "[0, 1, 2, 3]"
      ]
     },
     "execution_count": 89,
     "metadata": {},
     "output_type": "execute_result"
    }
   ],
   "source": [
    "final_tree"
   ]
  },
  {
   "cell_type": "code",
   "execution_count": 75,
   "metadata": {},
   "outputs": [],
   "source": [
    "def main():\n",
    "    N_C = [x for x in input().split()]\n",
    "    if 1<= int(N_C[0])<=200:\n",
    "        N = int(N_C[0])\n",
    "    if 0 <= float(N_C[1]) <= 100000:\n",
    "        C = float(N_C[1])\n",
    "    \n",
    "    tree_list=[]\n",
    "    for i in range(N):\n",
    "        tree_list.append([int(x) for x in input().split()])\n",
    "    \n",
    "    dict_tree = dict_tree_def(tree_list, N, C)\n",
    "    \n",
    "    final_tree=[]\n",
    "    for i in range(N):\n",
    "        move_flag = False\n",
    "        tree_list_cp = tree_list.copy()\n",
    "        for j in range(N):\n",
    "            if j!=i:\n",
    "                dist = math.sqrt(pow(tree_list_cp[i][0]-tree_list_cp[j][0], 2) + pow(tree_list_cp[i][1]-tree_list_cp[j][1], 2))\n",
    "                if tree_list_cp[j][2] > tree_list_cp[j][3]:\n",
    "                    move_flag=False\n",
    "                elif dist <= C : #and tree_list_cp[j][2] <= tree_list_cp[j][3] :\n",
    "                    move_flag=True\n",
    "                else: #dist >C\n",
    "                    valid_paths = pathFinder(dict_tree, j, i)\n",
    "                    move_flag = valid_paths_thresold_check(tree_list_cp, valid_paths)\n",
    "\n",
    "        if move_flag == True:\n",
    "            final_tree.append(i)\n",
    "\n",
    "    if len(final_tree) == 0:\n",
    "        return str(-1)\n",
    "    else:\n",
    "        return ' '.join([str(i) for i in final_tree])"
   ]
  },
  {
   "cell_type": "code",
   "execution_count": 76,
   "metadata": {},
   "outputs": [
    {
     "name": "stdout",
     "output_type": "stream",
     "text": [
      "4 8.5\n",
      "-5 0 8 8\n",
      "0 5 4 8\n",
      "0 -5 4 8\n",
      "5 0 10 10\n",
      "0 1 2 3\n"
     ]
    }
   ],
   "source": [
    "print(main())"
   ]
  },
  {
   "cell_type": "code",
   "execution_count": null,
   "metadata": {},
   "outputs": [],
   "source": [
    "N=4\n",
    "C=7.5\n",
    "a=[-5, 0, 8, 8]\n",
    "b=[0, 5, 4, 8]\n",
    "c=[0, -5, 4, 8]\n",
    "d=[5, 0, 10, 10]\n",
    "0 1 2 3"
   ]
  },
  {
   "cell_type": "code",
   "execution_count": null,
   "metadata": {},
   "outputs": [],
   "source": [
    "6 8.5\n",
    "-5 5 20 20\n",
    "5 5 10 10 \n",
    "0 0 5 35\n",
    "5 0 10 10\n",
    "-5 -5 10 10\n",
    "5 -5 10 10"
   ]
  }
 ],
 "metadata": {
  "kernelspec": {
   "display_name": "Python 3",
   "language": "python",
   "name": "python3"
  },
  "language_info": {
   "codemirror_mode": {
    "name": "ipython",
    "version": 3
   },
   "file_extension": ".py",
   "mimetype": "text/x-python",
   "name": "python",
   "nbconvert_exporter": "python",
   "pygments_lexer": "ipython3",
   "version": "3.7.4"
  }
 },
 "nbformat": 4,
 "nbformat_minor": 2
}
