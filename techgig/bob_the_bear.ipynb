{
 "cells": [
  {
   "cell_type": "code",
   "execution_count": 1,
   "metadata": {},
   "outputs": [],
   "source": [
    "# -*- coding: utf-8 -*-\n",
    "# Indentation: Jupyter Notebook\n",
    "\n",
    "'''\n",
    "Bob the bear for techgig\n",
    "'''\n",
    "\n",
    "__version__ = 1.0\n",
    "__author__ = \"Sourav Raj\"\n",
    "__author_email__ = \"souravraj.iitbbs@gmail.com\"\n"
   ]
  },
  {
   "cell_type": "code",
   "execution_count": 46,
   "metadata": {},
   "outputs": [
    {
     "data": {
      "text/plain": [
       "2"
      ]
     },
     "execution_count": 46,
     "metadata": {},
     "output_type": "execute_result"
    }
   ],
   "source": [
    "random.ran"
   ]
  },
  {
   "cell_type": "code",
   "execution_count": 3,
   "metadata": {},
   "outputs": [],
   "source": [
    "N = 5\n"
   ]
  },
  {
   "cell_type": "code",
   "execution_count": 7,
   "metadata": {},
   "outputs": [],
   "source": [
    "ln = [2, 4, 4, 2, 4]\n",
    "dl = [1, 4, 1, 6, 4]"
   ]
  },
  {
   "cell_type": "code",
   "execution_count": 47,
   "metadata": {},
   "outputs": [
    {
     "name": "stdout",
     "output_type": "stream",
     "text": [
      "1\n",
      "1 2\n",
      "1\n"
     ]
    }
   ],
   "source": [
    "N = int(input())\n",
    "ln = [int(x) for x in input().split()]\n",
    "dl = [int(x) for x in input().split()]"
   ]
  },
  {
   "cell_type": "code",
   "execution_count": 48,
   "metadata": {},
   "outputs": [
    {
     "data": {
      "text/plain": [
       "2"
      ]
     },
     "execution_count": 48,
     "metadata": {},
     "output_type": "execute_result"
    }
   ],
   "source": [
    "len_mat = max([x + y for x,y in zip(ln, dl)])\n",
    "len_mat"
   ]
  },
  {
   "cell_type": "code",
   "execution_count": 49,
   "metadata": {},
   "outputs": [],
   "source": [
    "fish_mat =[]\n",
    "for i in range(N):\n",
    "    fish_row =[]\n",
    "    for j in range(len_mat):\n",
    "        if dl[i]<=j<=ln[i]+dl[i]+1:\n",
    "            fish_row.append(1)\n",
    "        else:\n",
    "            fish_row.append(0)\n",
    "    fish_mat.append(fish_row)"
   ]
  },
  {
   "cell_type": "code",
   "execution_count": 50,
   "metadata": {},
   "outputs": [
    {
     "data": {
      "text/plain": [
       "[[0, 1]]"
      ]
     },
     "execution_count": 50,
     "metadata": {},
     "output_type": "execute_result"
    }
   ],
   "source": [
    "fish_mat"
   ]
  },
  {
   "cell_type": "code",
   "execution_count": 51,
   "metadata": {
    "collapsed": true
   },
   "outputs": [],
   "source": [
    "def col_add(mat):\n",
    "    sm =[sum(x) for x in zip(*mat)]\n",
    "    max_ind = [i for i in range(0, len(sm)) if sm[i] == max(sm)]\n",
    "    return sm, max_ind"
   ]
  },
  {
   "cell_type": "code",
   "execution_count": 52,
   "metadata": {
    "collapsed": true
   },
   "outputs": [],
   "source": [
    "col_list_sm, max_list_ind = col_add(fish_mat)"
   ]
  },
  {
   "cell_type": "code",
   "execution_count": 53,
   "metadata": {},
   "outputs": [
    {
     "data": {
      "text/plain": [
       "[0, 1]"
      ]
     },
     "execution_count": 53,
     "metadata": {},
     "output_type": "execute_result"
    }
   ],
   "source": [
    "col_list_sm"
   ]
  },
  {
   "cell_type": "code",
   "execution_count": 54,
   "metadata": {},
   "outputs": [
    {
     "data": {
      "text/plain": [
       "[1]"
      ]
     },
     "execution_count": 54,
     "metadata": {},
     "output_type": "execute_result"
    }
   ],
   "source": [
    "max_list_ind"
   ]
  },
  {
   "cell_type": "code",
   "execution_count": 55,
   "metadata": {
    "collapsed": true
   },
   "outputs": [],
   "source": [
    "def score_find(mat, max_ind,  col_sm):\n",
    "    ind = [i for i in range(len(mat)) if mat[i][max_ind]==1]\n",
    "    for x in ind:\n",
    "        mat[x] = [0]*len(mat[0])\n",
    "    sm, max_ind_list = col_add(mat)\n",
    "    final_sm = max(sm) + col_sm\n",
    "    return final_sm"
   ]
  },
  {
   "cell_type": "code",
   "execution_count": 56,
   "metadata": {
    "collapsed": true
   },
   "outputs": [],
   "source": [
    "def optimal_score(fish_mat, max_list_ind, col_list_sm):\n",
    "    score=[]\n",
    "    for i in range(len(max_list_ind)):\n",
    "        mat=fish_mat.copy()\n",
    "        score.append(score_find(mat, max_list_ind[i], col_list_sm[max_list_ind[i]]))\n",
    "    return max(score)"
   ]
  },
  {
   "cell_type": "code",
   "execution_count": 57,
   "metadata": {},
   "outputs": [],
   "source": [
    "score = optimal_score(fish_mat, max_list_ind, col_list_sm)"
   ]
  },
  {
   "cell_type": "code",
   "execution_count": 58,
   "metadata": {},
   "outputs": [
    {
     "data": {
      "text/plain": [
       "1"
      ]
     },
     "execution_count": 58,
     "metadata": {},
     "output_type": "execute_result"
    }
   ],
   "source": [
    "score"
   ]
  },
  {
   "cell_type": "code",
   "execution_count": null,
   "metadata": {
    "collapsed": true
   },
   "outputs": [],
   "source": [
    "\n",
    "\n",
    "\n",
    "N = int(input())\n",
    "ln = [int(x) for x in input().split()]\n",
    "dl = [int(x) for x in input().split()]\n",
    "\n",
    "len_mat = max([x + y for x,y in zip(ln, dl)])\n",
    "\n",
    "fish_mat =[]\n",
    "for i in range(N):\n",
    "    fish_row =[]\n",
    "    for j in range(len_mat):\n",
    "        if dl[i]<=j<=ln[i]+dl[i]+1:\n",
    "            fish_row.append(1)\n",
    "        else:\n",
    "            fish_row.append(0)\n",
    "    fish_mat.append(fish_row)\n",
    "    \n",
    "def col_add(mat):\n",
    "    sm =[sum(x) for x in zip(*mat)]\n",
    "    max_ind = [i for i in range(0, len(sm)) if sm[i] == max(sm)]\n",
    "    return sm, max_ind\n",
    "\n",
    "col_list_sm, max_list_ind = col_add(fish_mat)\n",
    "\n",
    "def score_find(mat, max_ind,  col_sm):\n",
    "    ind = [i for i in range(len(mat)) if mat[i][max_ind]==1]\n",
    "    for x in ind:\n",
    "        mat[x] = [0]*len(mat[0])\n",
    "    sm, max_ind_list = col_add(mat)\n",
    "    final_sm = max(sm) + col_sm\n",
    "    return final_sm\n",
    "\n",
    "def optimal_score(fish_mat, max_list_ind, col_list_sm):\n",
    "    score=[]\n",
    "    for i in range(len(max_list_ind)):\n",
    "        mat=fish_mat.copy()\n",
    "        score.append(score_find(mat, max_list_ind[i], col_list_sm[max_list_ind[i]]))\n",
    "    return max(score)\n",
    "    \n",
    "\n",
    "def main():\n",
    "    score = optimal_score(fish_mat, max_list_ind, col_list_sm)\n",
    "    return score\n",
    " \n",
    "print(main())\n"
   ]
  }
 ],
 "metadata": {
  "kernelspec": {
   "display_name": "Python 3",
   "language": "python",
   "name": "python3"
  },
  "language_info": {
   "codemirror_mode": {
    "name": "ipython",
    "version": 3
   },
   "file_extension": ".py",
   "mimetype": "text/x-python",
   "name": "python",
   "nbconvert_exporter": "python",
   "pygments_lexer": "ipython3",
   "version": "3.8.3"
  }
 },
 "nbformat": 4,
 "nbformat_minor": 2
}
