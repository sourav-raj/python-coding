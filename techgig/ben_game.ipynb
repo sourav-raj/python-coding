{
 "cells": [
  {
   "cell_type": "code",
   "execution_count": 1,
   "metadata": {},
   "outputs": [],
   "source": [
    "# -*- coding: utf-8 -*-\n",
    "# Indentation: Jupyter Notebook\n",
    "\n",
    "'''\n",
    "ben game\n",
    "'''\n",
    "\n",
    "__version__ = 1.0\n",
    "__author__ = \"Sourav Raj\"\n",
    "__author_email__ = \"souravraj.iitbbs@gmail.com\"\n"
   ]
  },
  {
   "cell_type": "code",
   "execution_count": 2,
   "metadata": {},
   "outputs": [],
   "source": [
    "def find_score(x):\n",
    "    final_list=[]\n",
    "    for i in range(len(x)):\n",
    "        sum_row=0\n",
    "        row=[]\n",
    "        for j in range(len(x[0])):\n",
    "            sum_row = sum_row + x[i][j]\n",
    "            row.append(x[i][j])\n",
    "        row.append(sum_row)\n",
    "        if sum_row!=0:\n",
    "            final_list.append(row)\n",
    "    return final_list\n",
    "            "
   ]
  },
  {
   "cell_type": "code",
   "execution_count": 3,
   "metadata": {},
   "outputs": [],
   "source": [
    "def min_score(x):\n",
    "    score=[]\n",
    "    for i in range(len(x)):\n",
    "        score.append(x[i][len(x[i])-1])\n",
    "    min_score=min(score)\n",
    "    init_level=[]\n",
    "    for j in range(len(x)):\n",
    "        if min_score==x[len(x)-j-1][len(x[i])-1]:\n",
    "            init_level=x[len(x)-j-1]\n",
    "    return init_level"
   ]
  },
  {
   "cell_type": "code",
   "execution_count": 4,
   "metadata": {},
   "outputs": [],
   "source": [
    "# drop column\n",
    "def drop_col(y1, z):   \n",
    "    for i in range(len(y1)):\n",
    "        for j in range(len(y1[i])):\n",
    "            if z[j]>0:\n",
    "                y1[i][j]=0\n",
    "        del y1[i][len(y1[i])-1]\n",
    "    return y1\n"
   ]
  },
  {
   "cell_type": "code",
   "execution_count": 4,
   "metadata": {},
   "outputs": [],
   "source": [
    "def final_sum_score(y):\n",
    "    sum_col=0\n",
    "    for i in range(len(y)):\n",
    "        sum_col = sum_col + y[i][len(y[i])-1]\n",
    "    return sum_col"
   ]
  },
  {
   "cell_type": "code",
   "execution_count": 5,
   "metadata": {},
   "outputs": [],
   "source": [
    "def optimum_cost(mat):\n",
    "    cost=0\n",
    "    final_score_sum=1\n",
    "    while(final_score_sum !=0):\n",
    "        y= find_score(mat).copy()\n",
    "        if(len(y)==0):\n",
    "            break\n",
    "        print(\"y\", y)\n",
    "        z = min_score(y).copy()\n",
    "        print(\"z\", z)\n",
    "        cost = cost + pow(z[len(z)-1],2)\n",
    "        final_score_sum = final_sum_score(y)\n",
    "        mat = drop_col(y, z).copy()\n",
    "        print(\"drop y \", y)\n",
    "        print(cost, final_score_sum)\n",
    "        \n",
    "    return cost\n",
    "    "
   ]
  },
  {
   "cell_type": "code",
   "execution_count": 32,
   "metadata": {},
   "outputs": [
    {
     "name": "stdout",
     "output_type": "stream",
     "text": [
      "y [[1.0, 0.0, 0.0, 1.0], [1.0, 1.0, 1.0, 3.0], [0.0, 0.0, 1.0, 1.0], [0.0, 1.0, 1.0, 2.0]]\n",
      "z [0.0, 0.0, 1.0, 1.0]\n",
      "drop y  [[1.0, 0.0, 0], [1.0, 1.0, 0], [0.0, 0.0, 0], [0.0, 1.0, 0], [2.0, 2.0, 0]]\n",
      "1.0 14.0\n",
      "y [[1.0, 0.0, 0, 1.0], [1.0, 1.0, 0, 2.0], [0.0, 1.0, 0, 1.0], [2.0, 2.0, 0, 4.0]]\n",
      "z [1.0, 0.0, 0, 1.0]\n",
      "drop y  [[0, 0.0, 0], [0, 1.0, 0], [0, 1.0, 0], [0, 2.0, 0], [0, 4.0, 0]]\n",
      "2.0 16.0\n",
      "y [[0, 1.0, 0, 1.0], [0, 1.0, 0, 1.0], [0, 2.0, 0, 2.0], [0, 4.0, 0, 4.0]]\n",
      "z [0, 1.0, 0, 1.0]\n",
      "drop y  [[0, 0, 0], [0, 0, 0], [0, 0, 0], [0, 0, 0], [0, 0, 0]]\n",
      "3.0 16.0\n"
     ]
    }
   ],
   "source": [
    "cost = optimum_cost(matrix)"
   ]
  },
  {
   "cell_type": "code",
   "execution_count": 7,
   "metadata": {},
   "outputs": [],
   "source": [
    "import numpy as np\n",
    "N=4\n",
    "M=3\n",
    "x = np.random.rand(N, M)\n",
    "for i in range(N):\n",
    "    for j in range(M):\n",
    "        if x[i][j]>0.5:\n",
    "            x[i][j]=1\n",
    "        else:\n",
    "            x[i][j]=0\n",
    "matrix = x"
   ]
  },
  {
   "cell_type": "code",
   "execution_count": 31,
   "metadata": {
    "collapsed": true
   },
   "outputs": [],
   "source": [
    "def min_score(x):\n",
    "    score =[]\n",
    "    for i in range(len(x)):\n",
    "        score.append(x[i][len(x[i])-1])\n",
    "    min_score=min(score)\n",
    "    col=[]\n",
    "    for i in range(len(x[0])):\n",
    "        col_sum=0\n",
    "        for j in range(len(x)):\n",
    "            col_sum=col_sum+x[j][i]\n",
    "        col.append(col_sum)\n",
    "    x.append(col)\n",
    "    same_min=[]\n",
    "    init_level=[]\n",
    "    for j in range(len(x)-1):\n",
    "        max_drop=0\n",
    "        if min_score==x[j][len(x[j])-1]:\n",
    "            for k in range(len(x[j])-1):\n",
    "                if x[j][k]==1:\n",
    "                    for l in range(len(x)-1):\n",
    "                        max_drop=max_drop+x[l][k]\n",
    "        same_min.append(max_drop)\n",
    "    init_level=x[same_min.index(max(same_min))].copy()\n",
    "    return init_level"
   ]
  },
  {
   "cell_type": "code",
   "execution_count": null,
   "metadata": {},
   "outputs": [],
   "source": [
    "x = input().split()\n",
    "N = int(x[0])\n",
    "W = int(x[1])\n",
    "tempW = []\n",
    "\n",
    "for x in range(N):\n",
    "    tempW.append(input())\n",
    "    \n",
    "matrix = []\n",
    "for x in tempW:\n",
    "    matrix.append([int(x) for x in x])\n",
    "    \n",
    "print('=== === ===')\n",
    "print('N:', N)\n",
    "print('W:', W)\n",
    "print('Matrix:\\t', matrix)"
   ]
  },
  {
   "cell_type": "code",
   "execution_count": 1,
   "metadata": {
    "collapsed": true
   },
   "outputs": [],
   "source": [
    "import re"
   ]
  },
  {
   "cell_type": "code",
   "execution_count": null,
   "metadata": {
    "collapsed": true
   },
   "outputs": [],
   "source": []
  },
  {
   "cell_type": "code",
   "execution_count": null,
   "metadata": {
    "collapsed": true
   },
   "outputs": [],
   "source": []
  }
 ],
 "metadata": {
  "kernelspec": {
   "display_name": "Python 3",
   "language": "python",
   "name": "python3"
  },
  "language_info": {
   "codemirror_mode": {
    "name": "ipython",
    "version": 3
   },
   "file_extension": ".py",
   "mimetype": "text/x-python",
   "name": "python",
   "nbconvert_exporter": "python",
   "pygments_lexer": "ipython3",
   "version": "3.8.3"
  }
 },
 "nbformat": 4,
 "nbformat_minor": 2
}
