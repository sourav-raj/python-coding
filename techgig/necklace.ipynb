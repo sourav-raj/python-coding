{
 "cells": [
  {
   "cell_type": "code",
   "execution_count": 1,
   "metadata": {},
   "outputs": [],
   "source": [
    "# -*- coding: utf-8 -*-\n",
    "# Indentation: Jupyter Notebook\n",
    "\n",
    "'''\n",
    "neclace problem\n",
    "'''\n",
    "\n",
    "__version__ = 1.0\n",
    "__author__ = \"Sourav Raj\"\n",
    "__author_email__ = \"souravraj.iitbbs@gmail.com\"\n"
   ]
  },
  {
   "cell_type": "code",
   "execution_count": 61,
   "metadata": {},
   "outputs": [
    {
     "name": "stdout",
     "output_type": "stream",
     "text": [
      "1\n"
     ]
    }
   ],
   "source": [
    "def neckLen(B, R, Y, G):\n",
    "    if(R == 0):\n",
    "        if(B!=0):\n",
    "            return(B)\n",
    "        if(Y == 0):\n",
    "            return(G)\n",
    "        else:\n",
    "            return (G + 1)        \n",
    "    else:\n",
    "        if(Y == 0):\n",
    "            return (B + G + 1)\n",
    "        elif(G ==0 and B!=0):\n",
    "            return(B+ R+ min(R, Y))\n",
    "        elif(B==0 and G!=0):\n",
    "            return(2+G+ 2* min(R-1, Y))\n",
    "        elif(R>Y):\n",
    "            return(2*min(R, Y) + B + G+1)\n",
    "        elif(R<=Y):\n",
    "            return(2*min(R, Y) + B + G)\n",
    "           \n",
    "print neckLen(1,0,2,5)"
   ]
  },
  {
   "cell_type": "code",
   "execution_count": null,
   "metadata": {
    "collapsed": true
   },
   "outputs": [],
   "source": [
    "def neckLen(B, R, Y, G):\n",
    "    if(R == 0):\n",
    "        if(B!=0):\n",
    "            return(B)\n",
    "        if(Y == 0):\n",
    "            return(G)\n",
    "        else:\n",
    "            return (G + 1)        \n",
    "    else:\n",
    "        if(Y != 0 and B != 0 and G != 0):\n",
    "            if(R>Y):\n",
    "                return(2*min(R, Y) + B + G+1)\n",
    "            else:\n",
    "                return(2*min(R, Y) + B + G)\n",
    "        elif(Y == 0):\n",
    "            return (B + G + 1)\n",
    "        elif(G ==0 and B!=0 and Y!=0):\n",
    "            return(B+ R+ min(R, Y))\n",
    "        elif(B==0 and R==1 and G!=0 and Y!=0):\n",
    "            return(G+2)\n",
    "        elif(B==0 and R >1 and G!=0 and Y!=0):\n",
    "            return(2+G+ 2* min(R-1, Y))\n",
    "        elif(B==0 and G==0 and R<=Y):\n",
    "            return(2* min(R,Y))\n",
    "        elif(B==0 and G==0 and R>Y):\n",
    "            return(2* min(R,Y) +1)\n",
    "        elif(G == 0 or Y != 0 and B != 0):\n",
    "            return(B + 3)   \n",
    "print neckLen(1,0,2,5)"
   ]
  },
  {
   "cell_type": "code",
   "execution_count": 58,
   "metadata": {},
   "outputs": [],
   "source": [
    "def neckLen(B, R, Y, G):\n",
    "    if(R == 0):\n",
    "        if(B!=0):\n",
    "            return(B)\n",
    "        if(Y == 0):\n",
    "            return(G)\n",
    "        elif(G==0 and B!=0):\n",
    "            return(B)\n",
    "        else:\n",
    "            return (G + 1 + B)        \n",
    "    else:\n",
    "        if(Y != 0 and B != 0 and G != 0):\n",
    "            if(R>Y):\n",
    "                return(2*min(R, Y) + B + G+1)\n",
    "            else:\n",
    "                return(2*min(R, Y) + B + G)\n",
    "        elif(Y == 0 and B == 0 and G == 0):\n",
    "            return(1)\n",
    "        elif(Y == 0 and B == 0 and G!=0):\n",
    "            return(1 + G)\n",
    "        elif(Y == 0 and G == 0 and B!=0):\n",
    "            return(1 + B)\n",
    "        elif(Y == 0 and G!=0 and B!=0):\n",
    "            return (B + G + 1)\n",
    "        elif(G ==0 and B!=0 and Y!=0):\n",
    "            return(B+ R+ min(R, Y))\n",
    "        elif(B==0 and R==1 and G!=0 and Y!=0):\n",
    "            return(G+2)\n",
    "        elif(B==0 and R >1 and G!=0 and Y!=0):\n",
    "            return(2+G+ 2* min(R-1, Y))\n",
    "        elif(B==0 and G==0 and R<=Y):\n",
    "            return(2* min(R,Y))\n",
    "        elif(B==0 and G==0 and R>Y):\n",
    "            return(2* min(R,Y) +1)\n",
    "        elif(G == 0 or Y != 0 and B != 0):\n",
    "            return(B + 3)   "
   ]
  },
  {
   "cell_type": "code",
   "execution_count": 60,
   "metadata": {},
   "outputs": [
    {
     "name": "stdout",
     "output_type": "stream",
     "text": [
      "1\n"
     ]
    }
   ],
   "source": [
    "print neckLen(1,0,2,5)"
   ]
  },
  {
   "cell_type": "code",
   "execution_count": null,
   "metadata": {
    "collapsed": true
   },
   "outputs": [],
   "source": []
  },
  {
   "cell_type": "code",
   "execution_count": 15,
   "metadata": {},
   "outputs": [
    {
     "name": "stdout",
     "output_type": "stream",
     "text": [
      "A\n",
      "9\n"
     ]
    }
   ],
   "source": [
    "def neckLen(B, R, Y, G):\n",
    "    if(R == 0):\n",
    "        if(Y == 0):\n",
    "            print(\"L\")\n",
    "            return max(B, G)\n",
    "        else:\n",
    "            return (G + 1 + B)\n",
    "            print(\"M\")\n",
    "        \n",
    "    else:\n",
    "        if(Y != 0 and B != 0 and G != 0):\n",
    "            print(\"A\")\n",
    "            if(R>Y):\n",
    "                return(2*min(R, Y) + B + G+1)\n",
    "            else:\n",
    "                return(2*min(R, Y) + B + G)\n",
    "            \n",
    "        elif(Y == 0 and B == 0 and G == 0):\n",
    "            print(\"B\")\n",
    "            return(1)\n",
    "            \n",
    "        elif(Y == 0 and B == 0 and G!=0):\n",
    "            print(\"C\")\n",
    "            return(1 + G)\n",
    "            print(A)\n",
    "        elif(Y == 0 and G == 0 and B!=0):\n",
    "            print(\"D\")\n",
    "            return(1 + B)\n",
    "            print(A)\n",
    "        elif(Y == 0 and G!=0 and B!=0):\n",
    "            print(\"E\")\n",
    "            return (B + G + 1)\n",
    "            print(A)\n",
    "        elif((G == 0 or Y != 0) and B != 0):\n",
    "            print(\"F\")\n",
    "            return(B + 3)\n",
    "            print(A)\n",
    "        elif(G ==0 and B!=0 and Y!=0):\n",
    "            print(\"G\")\n",
    "            return(B+ 2*min(R, Y))\n",
    "            print(A)\n",
    "        elif(B==0 and R==1 and G!=0 and Y!=0):\n",
    "            print(\"H\")\n",
    "            return(G+2)\n",
    "            print(A)\n",
    "        elif(B==0 and R >1 and G!=0 and Y!=0):\n",
    "            print(\"I\")\n",
    "            return(2+G+ 2* min(R-1, Y))\n",
    "            print(A)\n",
    "        elif(B==0 and G==0 and R<=Y):\n",
    "            print(\"J\")\n",
    "            return(2* min(R,Y))\n",
    "            print(M)\n",
    "        elif(B==0 and G==0 and R>Y):\n",
    "            print(\"K\")\n",
    "            return(2* min(R,Y) +1)\n",
    "            print()\n",
    "#         else:\n",
    "#             len_1 = B + 1 + G + 2*R\n",
    "#             Y = Y - min((R-1), Y)\n",
    "#             if(Y != 0):\n",
    "#                 return (len_1+1)\n",
    "#             else:\n",
    "#                 return (len_1)\n",
    "        \n",
    "print neckLen(2,6,2,2)"
   ]
  },
  {
   "cell_type": "code",
   "execution_count": null,
   "metadata": {
    "collapsed": true
   },
   "outputs": [],
   "source": [
    "for i in zip(range(2), range(3)):\n",
    "    print i"
   ]
  },
  {
   "cell_type": "code",
   "execution_count": 1,
   "metadata": {
    "collapsed": true
   },
   "outputs": [],
   "source": [
    "import numpy as np"
   ]
  },
  {
   "cell_type": "code",
   "execution_count": 18,
   "metadata": {},
   "outputs": [
    {
     "name": "stdout",
     "output_type": "stream",
     "text": [
      "1\n",
      "2\n",
      "3\n"
     ]
    }
   ],
   "source": [
    "y = 3\n",
    "r = 2\n",
    "count = 0\n",
    "\n",
    "for i in range(y):\n",
    "    if(r != 0):\n",
    "        count += 2\n",
    "        r = r - 1"
   ]
  },
  {
   "cell_type": "code",
   "execution_count": null,
   "metadata": {
    "collapsed": true
   },
   "outputs": [],
   "source": [
    "\n",
    "x=3\n",
    "y=2\n",
    "\n",
    "for i,j in np.array(x,y):\n",
    "    print i"
   ]
  },
  {
   "cell_type": "code",
   "execution_count": null,
   "metadata": {
    "collapsed": true
   },
   "outputs": [],
   "source": [
    "def neckLen(B, R, Y, G):\n",
    "    if(R == 0):\n",
    "        if(Y == 0):\n",
    "            return max(B, G)\n",
    "        else:\n",
    "            return (G + 1 + B)\n",
    "    else:\n",
    "        if(Y != 0 and B != 0 and G != 0):\n",
    "            return (2*min(R, Y) + B + G)\n",
    "        else:\n",
    "            return(B + 1 + G + YR_sequenceCounter(R - 1, Y))\n",
    "            \n",
    "def YR_sequenceCounter(Y, R):\n",
    "    \n",
    "    \n",
    "neckLen(2, 3, 1, 0)"
   ]
  },
  {
   "cell_type": "code",
   "execution_count": null,
   "metadata": {
    "collapsed": true
   },
   "outputs": [],
   "source": [
    "    elif(B == 0 and G== 0):\n",
    "        minConstant = min(R, Y)\n",
    "        len_1 = 2*minConstant + B + G\n",
    "        R = R - minConstant\n",
    "        Y = Y - minConstant\n",
    "        if(R != 0 or Y != 0):\n",
    "            return(len_1+1)\n",
    "        else:\n",
    "            return(len_1)"
   ]
  }
 ],
 "metadata": {
  "kernelspec": {
   "display_name": "Python 3",
   "language": "python",
   "name": "python3"
  },
  "language_info": {
   "codemirror_mode": {
    "name": "ipython",
    "version": 3
   },
   "file_extension": ".py",
   "mimetype": "text/x-python",
   "name": "python",
   "nbconvert_exporter": "python",
   "pygments_lexer": "ipython3",
   "version": "3.8.3"
  }
 },
 "nbformat": 4,
 "nbformat_minor": 2
}
